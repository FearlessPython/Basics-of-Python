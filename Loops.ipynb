{
 "cells": [
  {
   "cell_type": "markdown",
   "metadata": {},
   "source": [
    "# Loops"
   ]
  },
  {
   "cell_type": "markdown",
   "metadata": {},
   "source": [
    "We do programming to simplify our day to day life. Huge tasks can be done in a matter of seconds. Sometimes, many tasks involve repeatition, doing the same thing again and again, like printing your name for 10 times, printing the numbers 0 to 5, or printing the number of guest names contained in a list, with a greeting. How can we do this in Python? Let's try."
   ]
  },
  {
   "cell_type": "markdown",
   "metadata": {},
   "source": [
    "**Printing the name \"Smith\" 10 times.**"
   ]
  },
  {
   "cell_type": "code",
   "execution_count": 2,
   "metadata": {},
   "outputs": [
    {
     "name": "stdout",
     "output_type": "stream",
     "text": [
      "Smith\n",
      "Smith\n",
      "Smith\n",
      "Smith\n",
      "Smith\n",
      "Smith\n",
      "Smith\n",
      "Smith\n",
      "Smith\n",
      "Smith\n"
     ]
    }
   ],
   "source": [
    "my_name = \"Smith\"\n",
    "print(my_name)  # 1\n",
    "print(my_name)  # 2\n",
    "print(my_name)  # 3\n",
    "print(my_name)  # 4 \n",
    "print(my_name)  # 5\n",
    "print(my_name)  # 6\n",
    "print(my_name)  # 7\n",
    "print(my_name)  # 8\n",
    "print(my_name)  # 9\n",
    "print(my_name)  # 10"
   ]
  },
  {
   "cell_type": "markdown",
   "metadata": {},
   "source": [
    "**Printing the numbers 0 to 5.**"
   ]
  },
  {
   "cell_type": "code",
   "execution_count": 3,
   "metadata": {},
   "outputs": [
    {
     "name": "stdout",
     "output_type": "stream",
     "text": [
      "0\n",
      "1\n",
      "2\n",
      "3\n",
      "4\n",
      "5\n"
     ]
    }
   ],
   "source": [
    "print(0)\n",
    "print(1)\n",
    "print(2)\n",
    "print(3)\n",
    "print(4)\n",
    "print(5)"
   ]
  },
  {
   "cell_type": "markdown",
   "metadata": {},
   "source": [
    "**Printing the number of guest names contained in a list, with a greeting.**"
   ]
  },
  {
   "cell_type": "code",
   "execution_count": 4,
   "metadata": {},
   "outputs": [],
   "source": [
    "guest_names = [\n",
    "    'Leonardo DiCaprio', \n",
    "    'Christian Bale', \n",
    "    'Hugh Jackman',\n",
    "    'Matthew McConaughey',\n",
    "    'Brad Pitt',\n",
    "    'Matt Damon',\n",
    "    'Denzel Washington',\n",
    "    'Russell Crowe',\n",
    "    'Benedict Cumberbatch',\n",
    "    'Joaquin Phoenix'\n",
    "]"
   ]
  },
  {
   "cell_type": "markdown",
   "metadata": {},
   "source": [
    "Yes, we can write a list like that if it is too long. Make sure to include a comma (`,`) between every element. \n",
    "\n",
    "First, make sure our `guest_names` list has 10 guests. We cannot afford more than 10 guests in our party."
   ]
  },
  {
   "cell_type": "code",
   "execution_count": 5,
   "metadata": {},
   "outputs": [
    {
     "name": "stdout",
     "output_type": "stream",
     "text": [
      "10\n"
     ]
    }
   ],
   "source": [
    "print(len(guest_names))"
   ]
  },
  {
   "cell_type": "markdown",
   "metadata": {},
   "source": [
    "Okay, we can successfully take care of our all elite guests. But, before including them in our party, we have to write a program to print a greeting for all our guests."
   ]
  },
  {
   "cell_type": "code",
   "execution_count": 6,
   "metadata": {},
   "outputs": [
    {
     "name": "stdout",
     "output_type": "stream",
     "text": [
      "Welcome to the party, Mr. Leonardo DiCaprio\n",
      "Welcome to the party, Mr. Christian Bale\n",
      "Welcome to the party, Mr. Hugh Jackman\n",
      "Welcome to the party, Mr. Matthew McConaughey\n",
      "Welcome to the party, Mr. Brad Pitt\n",
      "Welcome to the party, Mr. Matt Damon\n",
      "Welcome to the party, Mr. Denzel Washington\n",
      "Welcome to the party, Mr. Russell Crowe\n",
      "Welcome to the party, Mr. Benedict Cumberbatch\n",
      "Welcome to the party, Mr. Joaquin Phoenix\n"
     ]
    }
   ],
   "source": [
    "greeting = 'Welcome to the party, Mr.'\n",
    "print(greeting, guest_names[0])\n",
    "print(greeting, guest_names[1])\n",
    "print(greeting, guest_names[2])\n",
    "print(greeting, guest_names[3])\n",
    "print(greeting, guest_names[4])\n",
    "print(greeting, guest_names[5])\n",
    "print(greeting, guest_names[6])\n",
    "print(greeting, guest_names[7])\n",
    "print(greeting, guest_names[8])\n",
    "print(greeting, guest_names[9])"
   ]
  },
  {
   "cell_type": "markdown",
   "metadata": {},
   "source": [
    "We accessed all the members of `guest_names` list one by one using the index notation (0, 1, 2, etc.,)."
   ]
  },
  {
   "cell_type": "markdown",
   "metadata": {},
   "source": [
    "This is nice, isn't it? By programming, we can do amazing things. There are much more things which we can do. But do you notice that we are doing the same thing again and again. Why will we repeat something again and again, if the computers are here for us?\n",
    "\n",
    "In programming, we should not repeat ourselves. There is a concept in programming called [DRY (Don't Repeat Yourself)](https://en.wikipedia.org/wiki/Don%27t_repeat_yourself). Computers need to repeat the same thing again and again, we don't. For this purpose, there are **loops** in Python (and many other programming languages). Using *loops*, we can make a block of code to repeat again and again, for any number of times. By few lines of code, you can print your name even for 30,000 times just in a matter of seconds.\n",
    "\n",
    "Basically, there are **two types of *loops*** in Python listed below:\n",
    "* `for` loop\n",
    "* `while` loop\n",
    "\n",
    "Both of them do the same thing, repeating a code block again and again, but their application and syntax is slightly different. In `for` loop, we know that how many times we have to repeat, whereas in `while` loop, we know upto when we have to repeat. We will discuss both of the loops with example. \n",
    "\n",
    "Let's start with `for` loop."
   ]
  },
  {
   "cell_type": "markdown",
   "metadata": {},
   "source": [
    "## 1. `for` loop"
   ]
  },
  {
   "cell_type": "markdown",
   "metadata": {},
   "source": [
    "To use the `for` loop, first we need to know the inbuilt `range()` function in Python. `for` loop can be used without using `range()` function also (like looping through the elements of a list, or a string), but it is important to know about the `range()` function by now. Most of the time they are used with `for` loop.\n",
    "\n",
    "### `range()` function\n",
    "The `range()` function returns a range of integers from a *starting point* to an *ending point*, increasing the numbers *step by step*. The `range()` function takes some arguments (inside the parenthesis of `range()`). It takes a minimum of 1 argument and a maximum of 3 arguments. We have to see all the cases."
   ]
  },
  {
   "cell_type": "code",
   "execution_count": 7,
   "metadata": {},
   "outputs": [
    {
     "name": "stdout",
     "output_type": "stream",
     "text": [
      "range(0, 10)\n"
     ]
    }
   ],
   "source": [
    "print(range(0, 10))"
   ]
  },
  {
   "cell_type": "markdown",
   "metadata": {},
   "source": [
    "Doing this simply won't work. It merely tells us that this is a range of numbers from `0` to `9` (not including `10`). It expects us to know what it does. So it does not list the whole range of numbers. We humans are smart enough. We know the other way around to see the whole list of numbers. We just have to add a functionality."
   ]
  },
  {
   "cell_type": "code",
   "execution_count": 8,
   "metadata": {},
   "outputs": [
    {
     "name": "stdout",
     "output_type": "stream",
     "text": [
      "[0, 1, 2, 3, 4, 5, 6, 7, 8, 9]\n"
     ]
    }
   ],
   "source": [
    "print(list(range(0, 10)))"
   ]
  },
  {
   "cell_type": "markdown",
   "metadata": {},
   "source": [
    "Yes, this works. We converted the sequence to a Python list. So, we provided 2 arguments here, `0`, and `10`. Here, `0` is the starting point and `10` is the ending point, but the ending point is not included. Only the integer prior to the ending point is included. There are many similar instances in Python (like slicing) where the ending point is not included. \n",
    "\n",
    "Above, we saw that the numbers started from `0`, increases step by step by `1`, and ended just before `10`. Let's see more examples. What if we provide only one argument?"
   ]
  },
  {
   "cell_type": "code",
   "execution_count": 9,
   "metadata": {},
   "outputs": [
    {
     "name": "stdout",
     "output_type": "stream",
     "text": [
      "[0, 1, 2, 3, 4, 5, 6, 7, 8, 9]\n"
     ]
    }
   ],
   "source": [
    "print(list(range(10)))"
   ]
  },
  {
   "cell_type": "markdown",
   "metadata": {},
   "source": [
    "What we did is exactly similar to the previous example. If we provide *only one argument*, then it is regarded as the *ending point*, and the default starting point is `0`.\n",
    "\n",
    "Now, we can also provide three arguments of the `range()` function. In that case, the third argument will be regarded as the step, by which every integer will progress in the sequence."
   ]
  },
  {
   "cell_type": "code",
   "execution_count": 10,
   "metadata": {},
   "outputs": [
    {
     "name": "stdout",
     "output_type": "stream",
     "text": [
      "[0, 1, 2, 3, 4, 5, 6, 7, 8, 9, 10, 11, 12, 13, 14, 15, 16, 17, 18, 19]\n"
     ]
    }
   ],
   "source": [
    "print(list(range(0, 20, 1)))"
   ]
  },
  {
   "cell_type": "code",
   "execution_count": 11,
   "metadata": {},
   "outputs": [
    {
     "name": "stdout",
     "output_type": "stream",
     "text": [
      "[0, 2, 4, 6, 8, 10, 12, 14, 16, 18]\n"
     ]
    }
   ],
   "source": [
    "print(list(range(0, 20, 2)))"
   ]
  },
  {
   "cell_type": "code",
   "execution_count": 12,
   "metadata": {},
   "outputs": [
    {
     "name": "stdout",
     "output_type": "stream",
     "text": [
      "[0, 5, 10, 15]\n"
     ]
    }
   ],
   "source": [
    "print(list(range(0, 20, 5)))"
   ]
  },
  {
   "cell_type": "code",
   "execution_count": 13,
   "metadata": {},
   "outputs": [
    {
     "name": "stdout",
     "output_type": "stream",
     "text": [
      "[0, 10]\n"
     ]
    }
   ],
   "source": [
    "print(list(range(0, 20, 10)))"
   ]
  },
  {
   "cell_type": "code",
   "execution_count": 14,
   "metadata": {},
   "outputs": [
    {
     "name": "stdout",
     "output_type": "stream",
     "text": [
      "[0]\n"
     ]
    }
   ],
   "source": [
    "print(list(range(0, 20, 20)))"
   ]
  },
  {
   "cell_type": "markdown",
   "metadata": {},
   "source": [
    "We can also change the *starting integer*."
   ]
  },
  {
   "cell_type": "code",
   "execution_count": 15,
   "metadata": {},
   "outputs": [
    {
     "name": "stdout",
     "output_type": "stream",
     "text": [
      "[5, 7, 9, 11, 13, 15, 17, 19]\n"
     ]
    }
   ],
   "source": [
    "print(list(range(5, 20, 2)))"
   ]
  },
  {
   "cell_type": "markdown",
   "metadata": {},
   "source": [
    "So, now you should know that if we do not provide the 3rd argument, its default value is 1.\n",
    "\n",
    "We can also print a reverse sequence."
   ]
  },
  {
   "cell_type": "code",
   "execution_count": 16,
   "metadata": {},
   "outputs": [
    {
     "name": "stdout",
     "output_type": "stream",
     "text": [
      "[20, 19, 18, 17, 16, 15, 14, 13, 12, 11, 10, 9, 8, 7, 6, 5, 4, 3, 2, 1]\n"
     ]
    }
   ],
   "source": [
    "print(list(range(20, 0, -1)))"
   ]
  },
  {
   "cell_type": "markdown",
   "metadata": {},
   "source": [
    "The *starting point* here is `20`, the *ending point* is `0`, and the step is `-1`, so the numbers are gradually decreasing one by one."
   ]
  },
  {
   "cell_type": "code",
   "execution_count": null,
   "metadata": {},
   "outputs": [],
   "source": []
  }
 ],
 "metadata": {
  "kernelspec": {
   "display_name": "Python 3",
   "language": "python",
   "name": "python3"
  },
  "language_info": {
   "codemirror_mode": {
    "name": "ipython",
    "version": 3
   },
   "file_extension": ".py",
   "mimetype": "text/x-python",
   "name": "python",
   "nbconvert_exporter": "python",
   "pygments_lexer": "ipython3",
   "version": "3.7.3"
  }
 },
 "nbformat": 4,
 "nbformat_minor": 2
}
