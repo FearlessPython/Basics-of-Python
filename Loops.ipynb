{
 "cells": [
  {
   "cell_type": "markdown",
   "metadata": {},
   "source": [
    "# Loops"
   ]
  },
  {
   "cell_type": "markdown",
   "metadata": {},
   "source": [
    "We do programming to simplify our day to day life. Huge tasks can be done in a matter of seconds. Sometimes, many tasks involve repeatition, doing the same thing again and again, like printing your name for 10 times, printing the numbers 0 to 5, or printing the number of guest names contained in a list, with a greeting. How can we do this in Python? Let's try."
   ]
  },
  {
   "cell_type": "markdown",
   "metadata": {},
   "source": [
    "**Printing the name \"Smith\" 10 times.**"
   ]
  },
  {
   "cell_type": "code",
   "execution_count": 1,
   "metadata": {},
   "outputs": [
    {
     "name": "stdout",
     "output_type": "stream",
     "text": [
      "Smith\n",
      "Smith\n",
      "Smith\n",
      "Smith\n",
      "Smith\n",
      "Smith\n",
      "Smith\n",
      "Smith\n",
      "Smith\n",
      "Smith\n"
     ]
    }
   ],
   "source": [
    "my_name = \"Smith\"\n",
    "print(my_name)  # 1\n",
    "print(my_name)  # 2\n",
    "print(my_name)  # 3\n",
    "print(my_name)  # 4 \n",
    "print(my_name)  # 5\n",
    "print(my_name)  # 6\n",
    "print(my_name)  # 7\n",
    "print(my_name)  # 8\n",
    "print(my_name)  # 9\n",
    "print(my_name)  # 10"
   ]
  },
  {
   "cell_type": "markdown",
   "metadata": {},
   "source": [
    "**Printing the numbers 0 to 5.**"
   ]
  },
  {
   "cell_type": "code",
   "execution_count": 2,
   "metadata": {},
   "outputs": [
    {
     "name": "stdout",
     "output_type": "stream",
     "text": [
      "0\n",
      "1\n",
      "2\n",
      "3\n",
      "4\n",
      "5\n"
     ]
    }
   ],
   "source": [
    "print(0)\n",
    "print(1)\n",
    "print(2)\n",
    "print(3)\n",
    "print(4)\n",
    "print(5)"
   ]
  },
  {
   "cell_type": "markdown",
   "metadata": {},
   "source": [
    "**Printing the number of guest names contained in a list, with a greeting.**"
   ]
  },
  {
   "cell_type": "code",
   "execution_count": 3,
   "metadata": {},
   "outputs": [],
   "source": [
    "guest_names = [\n",
    "    'Leonardo DiCaprio', \n",
    "    'Christian Bale', \n",
    "    'Hugh Jackman',\n",
    "    'Matthew McConaughey',\n",
    "    'Brad Pitt',\n",
    "    'Matt Damon',\n",
    "    'Denzel Washington',\n",
    "    'Russell Crowe',\n",
    "    'Benedict Cumberbatch',\n",
    "    'Joaquin Phoenix'\n",
    "]"
   ]
  },
  {
   "cell_type": "markdown",
   "metadata": {},
   "source": [
    "Yes, we can write a list like that if it is too long. Make sure to include a comma (`,`) between every element. \n",
    "\n",
    "First, make sure our `guest_names` list has 10 guests. We cannot afford more than 10 guests in our party."
   ]
  },
  {
   "cell_type": "code",
   "execution_count": 4,
   "metadata": {},
   "outputs": [
    {
     "name": "stdout",
     "output_type": "stream",
     "text": [
      "10\n"
     ]
    }
   ],
   "source": [
    "print(len(guest_names))"
   ]
  },
  {
   "cell_type": "markdown",
   "metadata": {},
   "source": [
    "Okay, we can successfully take care of our all elite guests. But, before including them in our party, we have to write a program to print a greeting for all our guests."
   ]
  },
  {
   "cell_type": "code",
   "execution_count": 5,
   "metadata": {},
   "outputs": [
    {
     "name": "stdout",
     "output_type": "stream",
     "text": [
      "Welcome to the party, Mr. Leonardo DiCaprio\n",
      "Welcome to the party, Mr. Christian Bale\n",
      "Welcome to the party, Mr. Hugh Jackman\n",
      "Welcome to the party, Mr. Matthew McConaughey\n",
      "Welcome to the party, Mr. Brad Pitt\n",
      "Welcome to the party, Mr. Matt Damon\n",
      "Welcome to the party, Mr. Denzel Washington\n",
      "Welcome to the party, Mr. Russell Crowe\n",
      "Welcome to the party, Mr. Benedict Cumberbatch\n",
      "Welcome to the party, Mr. Joaquin Phoenix\n"
     ]
    }
   ],
   "source": [
    "greeting = 'Welcome to the party, Mr.'\n",
    "print(greeting, guest_names[0])\n",
    "print(greeting, guest_names[1])\n",
    "print(greeting, guest_names[2])\n",
    "print(greeting, guest_names[3])\n",
    "print(greeting, guest_names[4])\n",
    "print(greeting, guest_names[5])\n",
    "print(greeting, guest_names[6])\n",
    "print(greeting, guest_names[7])\n",
    "print(greeting, guest_names[8])\n",
    "print(greeting, guest_names[9])"
   ]
  },
  {
   "cell_type": "markdown",
   "metadata": {},
   "source": [
    "We accessed all the members of `guest_names` list one by one using the index notation (0, 1, 2, etc.,)."
   ]
  },
  {
   "cell_type": "markdown",
   "metadata": {},
   "source": [
    "This is nice, isn't it? By programming, we can do amazing things. There are much more things which we can do. But do you notice that we are doing the same thing again and again. Why will we repeat something again and again, if the computers are here for us?\n",
    "\n",
    "In programming, we should not repeat ourselves. There is a concept in programming called [DRY (Don't Repeat Yourself)](https://en.wikipedia.org/wiki/Don%27t_repeat_yourself). Computers need to repeat the same thing again and again, we don't. For this purpose, there are **loops** in Python (and many other programming languages). Using *loops*, we can make a block of code to repeat again and again, for any number of times. By few lines of code, you can print your name even for 30,000 times just in a matter of seconds.\n",
    "\n",
    "Basically, there are **two types of *loops*** in Python listed below:\n",
    "* `for` loop\n",
    "* `while` loop\n",
    "\n",
    "Both of them do the same thing, repeating a code block again and again, but their application and syntax is slightly different. In `for` loop, we know that how many times we have to repeat, whereas in `while` loop, we know upto when we have to repeat. We will discuss both of the loops with example. \n",
    "\n",
    "Let's start with `for` loop."
   ]
  },
  {
   "cell_type": "markdown",
   "metadata": {},
   "source": [
    "## 1. `for` loop"
   ]
  },
  {
   "cell_type": "markdown",
   "metadata": {},
   "source": [
    "To use the `for` loop, first we need to know the inbuilt `range()` function in Python. `for` loop can be used without using `range()` function also (like looping through the elements of a list, or a string), but it is important to know about the `range()` function by now. Most of the time they are used with `for` loop.\n",
    "\n",
    "### `range()` function\n",
    "The `range()` function returns a range of integers from a *starting point* to an *ending point*, increasing the numbers *step by step*. The `range()` function takes some arguments (inside the parenthesis of `range()`). It takes a minimum of 1 argument and a maximum of 3 arguments. We have to see all the cases."
   ]
  },
  {
   "cell_type": "code",
   "execution_count": 6,
   "metadata": {},
   "outputs": [
    {
     "name": "stdout",
     "output_type": "stream",
     "text": [
      "range(0, 10)\n"
     ]
    }
   ],
   "source": [
    "print(range(0, 10))"
   ]
  },
  {
   "cell_type": "markdown",
   "metadata": {},
   "source": [
    "Doing this simply won't work. It merely tells us that this is a range of numbers from `0` to `9` (not including `10`). It expects us to know what it does. So it does not list the whole range of numbers. We humans are smart enough. We know the other way around to see the whole list of numbers. We just have to add a functionality."
   ]
  },
  {
   "cell_type": "code",
   "execution_count": 7,
   "metadata": {},
   "outputs": [
    {
     "name": "stdout",
     "output_type": "stream",
     "text": [
      "[0, 1, 2, 3, 4, 5, 6, 7, 8, 9]\n"
     ]
    }
   ],
   "source": [
    "print(list(range(0, 10)))"
   ]
  },
  {
   "cell_type": "markdown",
   "metadata": {},
   "source": [
    "Yes, this works. We converted the sequence to a Python list. So, we provided 2 arguments here, `0`, and `10`. Here, `0` is the starting point and `10` is the ending point, but the ending point is not included. Only the integer prior to the ending point is included. There are many similar instances in Python (like slicing) where the ending point is not included. \n",
    "\n",
    "Above, we saw that the numbers started from `0`, increases step by step by `1`, and ended just before `10`. Let's see more examples. What if we provide only one argument?"
   ]
  },
  {
   "cell_type": "code",
   "execution_count": 8,
   "metadata": {},
   "outputs": [
    {
     "name": "stdout",
     "output_type": "stream",
     "text": [
      "[0, 1, 2, 3, 4, 5, 6, 7, 8, 9]\n"
     ]
    }
   ],
   "source": [
    "print(list(range(10)))"
   ]
  },
  {
   "cell_type": "markdown",
   "metadata": {},
   "source": [
    "What we did is exactly similar to the previous example. If we provide *only one argument*, then it is regarded as the *ending point*, and the default starting point is `0`.\n",
    "\n",
    "Now, we can also provide three arguments of the `range()` function. In that case, the third argument will be regarded as the step, by which every integer will progress in the sequence."
   ]
  },
  {
   "cell_type": "code",
   "execution_count": 9,
   "metadata": {},
   "outputs": [
    {
     "name": "stdout",
     "output_type": "stream",
     "text": [
      "[0, 1, 2, 3, 4, 5, 6, 7, 8, 9, 10, 11, 12, 13, 14, 15, 16, 17, 18, 19]\n"
     ]
    }
   ],
   "source": [
    "print(list(range(0, 20, 1)))"
   ]
  },
  {
   "cell_type": "code",
   "execution_count": 10,
   "metadata": {},
   "outputs": [
    {
     "name": "stdout",
     "output_type": "stream",
     "text": [
      "[0, 2, 4, 6, 8, 10, 12, 14, 16, 18]\n"
     ]
    }
   ],
   "source": [
    "print(list(range(0, 20, 2)))"
   ]
  },
  {
   "cell_type": "code",
   "execution_count": 11,
   "metadata": {},
   "outputs": [
    {
     "name": "stdout",
     "output_type": "stream",
     "text": [
      "[0, 5, 10, 15]\n"
     ]
    }
   ],
   "source": [
    "print(list(range(0, 20, 5)))"
   ]
  },
  {
   "cell_type": "code",
   "execution_count": 12,
   "metadata": {},
   "outputs": [
    {
     "name": "stdout",
     "output_type": "stream",
     "text": [
      "[0, 10]\n"
     ]
    }
   ],
   "source": [
    "print(list(range(0, 20, 10)))"
   ]
  },
  {
   "cell_type": "code",
   "execution_count": 13,
   "metadata": {},
   "outputs": [
    {
     "name": "stdout",
     "output_type": "stream",
     "text": [
      "[0]\n"
     ]
    }
   ],
   "source": [
    "print(list(range(0, 20, 20)))"
   ]
  },
  {
   "cell_type": "markdown",
   "metadata": {},
   "source": [
    "We can also change the *starting integer*."
   ]
  },
  {
   "cell_type": "code",
   "execution_count": 14,
   "metadata": {},
   "outputs": [
    {
     "name": "stdout",
     "output_type": "stream",
     "text": [
      "[5, 7, 9, 11, 13, 15, 17, 19]\n"
     ]
    }
   ],
   "source": [
    "print(list(range(5, 20, 2)))"
   ]
  },
  {
   "cell_type": "markdown",
   "metadata": {},
   "source": [
    "So, now you should know that if we do not provide the 3rd argument, its default value is 1.\n",
    "\n",
    "We can also print a reverse sequence."
   ]
  },
  {
   "cell_type": "code",
   "execution_count": 15,
   "metadata": {},
   "outputs": [
    {
     "name": "stdout",
     "output_type": "stream",
     "text": [
      "[20, 19, 18, 17, 16, 15, 14, 13, 12, 11, 10, 9, 8, 7, 6, 5, 4, 3, 2, 1]\n"
     ]
    }
   ],
   "source": [
    "print(list(range(20, 0, -1)))"
   ]
  },
  {
   "cell_type": "markdown",
   "metadata": {},
   "source": [
    "The *starting point* here is `20`, the *ending point* is `0`, and the step is `-1`, so the numbers are gradually decreasing one by one."
   ]
  },
  {
   "cell_type": "markdown",
   "metadata": {},
   "source": [
    "What will happen if we provide `0` as the *step*? "
   ]
  },
  {
   "cell_type": "code",
   "execution_count": 16,
   "metadata": {},
   "outputs": [
    {
     "ename": "ValueError",
     "evalue": "range() arg 3 must not be zero",
     "output_type": "error",
     "traceback": [
      "\u001b[1;31m---------------------------------------------------------------------------\u001b[0m",
      "\u001b[1;31mValueError\u001b[0m                                Traceback (most recent call last)",
      "\u001b[1;32m<ipython-input-16-7131dfd75d66>\u001b[0m in \u001b[0;36m<module>\u001b[1;34m\u001b[0m\n\u001b[1;32m----> 1\u001b[1;33m \u001b[0mprint\u001b[0m\u001b[1;33m(\u001b[0m\u001b[0mlist\u001b[0m\u001b[1;33m(\u001b[0m\u001b[0mrange\u001b[0m\u001b[1;33m(\u001b[0m\u001b[1;36m0\u001b[0m\u001b[1;33m,\u001b[0m \u001b[1;36m25\u001b[0m\u001b[1;33m,\u001b[0m \u001b[1;36m0\u001b[0m\u001b[1;33m)\u001b[0m\u001b[1;33m)\u001b[0m\u001b[1;33m)\u001b[0m\u001b[1;33m\u001b[0m\u001b[1;33m\u001b[0m\u001b[0m\n\u001b[0m",
      "\u001b[1;31mValueError\u001b[0m: range() arg 3 must not be zero"
     ]
    }
   ],
   "source": [
    "print(list(range(0, 25, 0)))"
   ]
  },
  {
   "cell_type": "markdown",
   "metadata": {},
   "source": [
    "That seems an error, which is very logical. How can there be a sequence if they do not increase at all? Every number is going to be the same (0, 0, 0, ...), then, it will never reach the *ending point* (25), so it will progress forever infinite times. So, the 3rd argument can never be a `0`.\n",
    "\n",
    "See few more cases."
   ]
  },
  {
   "cell_type": "code",
   "execution_count": 17,
   "metadata": {},
   "outputs": [
    {
     "name": "stdout",
     "output_type": "stream",
     "text": [
      "[]\n"
     ]
    }
   ],
   "source": [
    "print(list(range(10, 20, -1)))"
   ]
  },
  {
   "cell_type": "markdown",
   "metadata": {},
   "source": [
    "That's an empty list because how can the series proceed from `10` to `20` if every number is going to **decrease** by 1?\n",
    "\n",
    "A same empty list will be generated if we do `list(range(20, 10))`."
   ]
  },
  {
   "cell_type": "code",
   "execution_count": 18,
   "metadata": {},
   "outputs": [
    {
     "name": "stdout",
     "output_type": "stream",
     "text": [
      "[]\n"
     ]
    }
   ],
   "source": [
    "print(list(range(20, 10))) # equivalent to print(list(range(20, 10, 1)))"
   ]
  },
  {
   "cell_type": "markdown",
   "metadata": {},
   "source": [
    "Now we are ready to encounter the `for` loop. `for` is a reserved Python keyword for its application in loops. Till now, we printed the sequence generated via `range()` function by converting it to a list. By using `for` loop, we can print each term of the sequence one by one, on each line. The general structure of a `for` loop is like this."
   ]
  },
  {
   "cell_type": "code",
   "execution_count": 19,
   "metadata": {},
   "outputs": [
    {
     "name": "stdout",
     "output_type": "stream",
     "text": [
      "0\n",
      "1\n",
      "2\n",
      "3\n",
      "4\n",
      "5\n",
      "6\n",
      "7\n",
      "8\n",
      "9\n"
     ]
    }
   ],
   "source": [
    "for term in range(0, 10): # A colon (:) is required, which indicates that the block of for loop is to be started.\n",
    "    print(term)"
   ]
  },
  {
   "cell_type": "markdown",
   "metadata": {},
   "source": [
    "The result is as expected. When we started the `for` loop, we wrote\n",
    "```Python\n",
    "for term in range(0, 10):\n",
    "```\n",
    "`range(0, 10)` means sequence from `0` to `10` (not including `10`). So we are asking for each `term` *in* the sequence, we want to do something. It will loop several times over the sequence. In the first loop, `term = 0`, and then the rest code block below will be executed with the value of `term = 0`. After the whole code block gets executed, the Python interpreter  will again come to the line `for term in range(0, 10):`. Now this time, second loop gets started, and `term = 1`, and so on, until `term = 9`. After that, our Python interpreter will again come to the `for` loop line, and now it will see that the sequence is exhausted. So, it will exit out of the loop. One thing to note is that you can provide any variable in place of `term`, as long as it is meaningful to you. Most of the time, `i` is used, which stands for iteration (repitition process in each looping cycle).\n",
    "\n",
    "Here, the code block of our `for` loop is `print(term)`. Notice that we have provided an *indentation*. You can press `Tab` key of your keyboard, or include either `2` or `4 space` of indentation. Some people even provide `8 space` of indentation. But that is not recommended. The official Python style is to use `4 space` indentation, like we used here. You should be consistent throughout your code. If you include irregular spaces of indentation (like, somewhere 4 spaces, and somewhere 2 spaces), then you are likely to get `IndentationError`.\n",
    "\n",
    "What *indentation* means is that, our block of code has started. Here, we provided `print(term)` as the code block within the `for` loop. That means as the value of `term` is changing in different looping cycles, it will be printed out one by one. Whenever we stop giving the *indentation*, that will mean that we have stopped writing the code which will be included inside the `for` loop."
   ]
  },
  {
   "cell_type": "markdown",
   "metadata": {},
   "source": [
    "Let's see all the examples one by one."
   ]
  },
  {
   "cell_type": "code",
   "execution_count": 20,
   "metadata": {},
   "outputs": [
    {
     "name": "stdout",
     "output_type": "stream",
     "text": [
      "0\n",
      "1\n",
      "2\n",
      "3\n",
      "4\n",
      "5\n",
      "6\n",
      "7\n",
      "8\n",
      "9\n",
      "Is this line inside the loop?\n"
     ]
    }
   ],
   "source": [
    "for i in range(10):\n",
    "    print(i)\n",
    "print(\"Is this line inside the loop?\")"
   ]
  },
  {
   "cell_type": "markdown",
   "metadata": {},
   "source": [
    "We can see that we wrote the line `print(\"Is this line inside the loop?\")` without providing indentation, while the previous line is given an indentation. If the last line was inside the code block of the `for` loop, then it should have been printed 10 times (10 iterations/looping cycles, from 0 to 9). Now we will provide an indentation to that line too and see whether it is printed 10 times or not."
   ]
  },
  {
   "cell_type": "code",
   "execution_count": 21,
   "metadata": {},
   "outputs": [
    {
     "name": "stdout",
     "output_type": "stream",
     "text": [
      "0\n",
      "Is this line inside the loop?\n",
      "1\n",
      "Is this line inside the loop?\n",
      "2\n",
      "Is this line inside the loop?\n",
      "3\n",
      "Is this line inside the loop?\n",
      "4\n",
      "Is this line inside the loop?\n",
      "5\n",
      "Is this line inside the loop?\n",
      "6\n",
      "Is this line inside the loop?\n",
      "7\n",
      "Is this line inside the loop?\n",
      "8\n",
      "Is this line inside the loop?\n",
      "9\n",
      "Is this line inside the loop?\n"
     ]
    }
   ],
   "source": [
    "for i in range(10):\n",
    "    print(i)\n",
    "    print(\"Is this line inside the loop?\")"
   ]
  },
  {
   "cell_type": "markdown",
   "metadata": {},
   "source": [
    "Now you must have understood the significance of *indentation*. Do you have any idea now, how can you use this technique to print your name thousands of times? We can use\n",
    "```Python\n",
    "for i in range(30000):\n",
    "    print(\"Will Smith\")\n",
    "```\n",
    "This will print the name `\"Will Smith\"` 30000 times. But we won't print here for 30000 times, because if we do so, then you have to scroll for a long time to reach the bottom of this page to view the other content. But be sure to try this out at home and annoy your friends/brother/sister by printing your name for thousands of time, may be millions of time, and show them how important you are.\n",
    "\n",
    "We can print here for 10 times at least.\n",
    "\n",
    "**Printing the name \"Smith\" 10 times (using `for` loop)**"
   ]
  },
  {
   "cell_type": "code",
   "execution_count": 22,
   "metadata": {},
   "outputs": [
    {
     "name": "stdout",
     "output_type": "stream",
     "text": [
      "Smith\n",
      "Smith\n",
      "Smith\n",
      "Smith\n",
      "Smith\n",
      "Smith\n",
      "Smith\n",
      "Smith\n",
      "Smith\n",
      "Smith\n"
     ]
    }
   ],
   "source": [
    "for i in range(0, 10):\n",
    "    print(\"Smith\")"
   ]
  },
  {
   "cell_type": "markdown",
   "metadata": {},
   "source": [
    "Cool! Isn't it? We did the same thing above without using loops at all, and we wrote 11 lines there. Here, only 2 lines. Now printing the numbers from 0 to 5 will be a cake-walk for us.\n",
    "\n",
    "**Printing the numbers 0 to 5 (using `for` loop)**"
   ]
  },
  {
   "cell_type": "code",
   "execution_count": 23,
   "metadata": {},
   "outputs": [
    {
     "name": "stdout",
     "output_type": "stream",
     "text": [
      "0\n",
      "1\n",
      "2\n",
      "3\n",
      "4\n",
      "5\n"
     ]
    }
   ],
   "source": [
    "for number in range(0, 6):\n",
    "    print(number)"
   ]
  },
  {
   "cell_type": "markdown",
   "metadata": {},
   "source": [
    "We can also do the same thing by looping/iterating over the elements of a list. We can access each element using the index of that element in the list. There are actually two ways to iterate over a list. In one way, we have to use the `range()` function and the indices of the list elements, and in an other way, without using `range()` function or the indices. We will continue with our previous `guest_names` list.\n",
    "\n",
    "**Printing the number of guest names contained in a list, with a greeting (using `for` loop) - Level 1**"
   ]
  },
  {
   "cell_type": "code",
   "execution_count": 24,
   "metadata": {},
   "outputs": [
    {
     "name": "stdout",
     "output_type": "stream",
     "text": [
      "['Leonardo DiCaprio', 'Christian Bale', 'Hugh Jackman', 'Matthew McConaughey', 'Brad Pitt', 'Matt Damon', 'Denzel Washington', 'Russell Crowe', 'Benedict Cumberbatch', 'Joaquin Phoenix']\n"
     ]
    }
   ],
   "source": [
    "print(guest_names) # Viewing the previous guest_names list again."
   ]
  },
  {
   "cell_type": "code",
   "execution_count": 25,
   "metadata": {},
   "outputs": [
    {
     "name": "stdout",
     "output_type": "stream",
     "text": [
      "Welcome to the party, Mr. Leonardo DiCaprio\n",
      "Welcome to the party, Mr. Christian Bale\n",
      "Welcome to the party, Mr. Hugh Jackman\n",
      "Welcome to the party, Mr. Matthew McConaughey\n",
      "Welcome to the party, Mr. Brad Pitt\n",
      "Welcome to the party, Mr. Matt Damon\n",
      "Welcome to the party, Mr. Denzel Washington\n",
      "Welcome to the party, Mr. Russell Crowe\n",
      "Welcome to the party, Mr. Benedict Cumberbatch\n",
      "Welcome to the party, Mr. Joaquin Phoenix\n"
     ]
    }
   ],
   "source": [
    "greeting = 'Welcome to the party, Mr.'\n",
    "for index in range(0, 10): # Ten elements in the list, so the index will be from 0 to 9\n",
    "    print(greeting, guest_names[index])"
   ]
  },
  {
   "cell_type": "markdown",
   "metadata": {},
   "source": [
    "We used `range(0, 10)` here (equivalent to `range(10)`). But what if the list contains hundreds, or even thousands of guests? Then we won't know what we have to use in place of `range(10)`. Suppose there are 6154 guests in our list. Then if we mistakenly use `range(6100)`, then 54 last guests in the list won't be greeted, and they will feel bad. If we use `range(6200)`, then none of the guests will be greeted (it will be an `IndexError`). Oh! How stupid can I be? We can use the Python inbuilt `len()` function to find out the number of guests in the list, and use it inside `range()` function. The output of `len()` is consistent with `range()`, we ourselves don't have to know the length of the list at all. We are plugging it inside the `range()` function, and `len()` is telling the length of list only to the `range()`, not us. It's all plug and play."
   ]
  },
  {
   "cell_type": "code",
   "execution_count": 26,
   "metadata": {},
   "outputs": [
    {
     "name": "stdout",
     "output_type": "stream",
     "text": [
      "Welcome to the party, Mr. Leonardo DiCaprio\n",
      "Welcome to the party, Mr. Christian Bale\n",
      "Welcome to the party, Mr. Hugh Jackman\n",
      "Welcome to the party, Mr. Matthew McConaughey\n",
      "Welcome to the party, Mr. Brad Pitt\n",
      "Welcome to the party, Mr. Matt Damon\n",
      "Welcome to the party, Mr. Denzel Washington\n",
      "Welcome to the party, Mr. Russell Crowe\n",
      "Welcome to the party, Mr. Benedict Cumberbatch\n",
      "Welcome to the party, Mr. Joaquin Phoenix\n"
     ]
    }
   ],
   "source": [
    "greeting = 'Welcome to the party, Mr.'\n",
    "for index in range(len(guest_names)): # len(guest_names) outputs 10, so the index will be from 0 to 9\n",
    "    print(greeting, guest_names[index])"
   ]
  },
  {
   "cell_type": "markdown",
   "metadata": {},
   "source": [
    "Well, we are making huge progress. Thousands, or even millions of guests can be greeted, with just those few lines of code, not millions of lines of code.\n",
    "\n",
    "Now, it is the time for *Level 2*, where we won't use `range()`, `len()`, or *indices* of the elements at all. Will this level be harder?\n",
    "\n",
    "**Printing the number of guest names contained in a list, with a greeting (using `for` loop) - Level 2**"
   ]
  },
  {
   "cell_type": "code",
   "execution_count": 27,
   "metadata": {},
   "outputs": [
    {
     "name": "stdout",
     "output_type": "stream",
     "text": [
      "Leonardo DiCaprio\n",
      "Christian Bale\n",
      "Hugh Jackman\n",
      "Matthew McConaughey\n",
      "Brad Pitt\n",
      "Matt Damon\n",
      "Denzel Washington\n",
      "Russell Crowe\n",
      "Benedict Cumberbatch\n",
      "Joaquin Phoenix\n"
     ]
    }
   ],
   "source": [
    "for element in guest_names:\n",
    "    print(element)"
   ]
  },
  {
   "cell_type": "markdown",
   "metadata": {},
   "source": [
    "Wooho! It was a lot more easier. Just as previously we were iterating over the terms of a sequence, and used them to access list elements via their indices, here we are directly iterating over the elements of the list. No indices are required to access them.\n",
    "\n",
    "Now let's greet our guests."
   ]
  },
  {
   "cell_type": "code",
   "execution_count": 28,
   "metadata": {},
   "outputs": [
    {
     "name": "stdout",
     "output_type": "stream",
     "text": [
      "Welcome to the party, Mr. Leonardo DiCaprio\n",
      "Welcome to the party, Mr. Christian Bale\n",
      "Welcome to the party, Mr. Hugh Jackman\n",
      "Welcome to the party, Mr. Matthew McConaughey\n",
      "Welcome to the party, Mr. Brad Pitt\n",
      "Welcome to the party, Mr. Matt Damon\n",
      "Welcome to the party, Mr. Denzel Washington\n",
      "Welcome to the party, Mr. Russell Crowe\n",
      "Welcome to the party, Mr. Benedict Cumberbatch\n",
      "Welcome to the party, Mr. Joaquin Phoenix\n"
     ]
    }
   ],
   "source": [
    "greeting = 'Welcome to the party, Mr.' \n",
    "# We don't have to assign this again and again, its already stored in memory, but just for your convenience\n",
    "\n",
    "for element in guest_names:\n",
    "    print(greeting, element)"
   ]
  },
  {
   "cell_type": "markdown",
   "metadata": {},
   "source": [
    "We can apply the same method not only to the lists, but to strings also, where the loop will iterate over the characters of the string."
   ]
  },
  {
   "cell_type": "code",
   "execution_count": 29,
   "metadata": {},
   "outputs": [
    {
     "name": "stdout",
     "output_type": "stream",
     "text": [
      "W\n",
      "e\n",
      "l\n",
      "c\n",
      "o\n",
      "m\n",
      "e\n",
      " \n",
      "t\n",
      "o\n",
      " \n",
      "t\n",
      "h\n",
      "e\n",
      " \n",
      "p\n",
      "a\n",
      "r\n",
      "t\n",
      "y\n",
      ",\n",
      " \n",
      "M\n",
      "r\n",
      ".\n"
     ]
    }
   ],
   "source": [
    "greeting = 'Welcome to the party, Mr.' \n",
    "\n",
    "for char in greeting:\n",
    "    print(char)"
   ]
  },
  {
   "cell_type": "markdown",
   "metadata": {},
   "source": [
    "It is amazing, right? Loops are really amazing and fascinating. Now it's the right time to introduce `while` loop to you."
   ]
  },
  {
   "cell_type": "markdown",
   "metadata": {},
   "source": [
    "## 2. `while` loop"
   ]
  },
  {
   "cell_type": "markdown",
   "metadata": {},
   "source": [
    "Unlike `for` loop, we don't need the `range()` function to make `while` loop work. In `for` loop, when we use the `range()` function, we know that how many iterations/repititions will take place. (*e.g*., If we use `range(10)`, then we know that there will be 10 repititions). But in case of `while` loop, we don't exactly know how many iterations will take place (but eventually number of iterations can be found out after whole `while` loop is executed). \n",
    "\n",
    "In `while` loop, we know that upto which condition the iterations will take place. `while` loop utilises `True` or `False` booleans. If a condition evaluates to `True`, then looping will continue, and if a condition evaluates to `False`, the Python interpreter immediately exits out of the loop. And moreover, we should also check that the condition used in `while` loop don't remains the same forever, because if the condition evaluates to `True` forever, then infinite number of looping cycles will occur, due to which, Python interpreter never exits the loop, and you have to forcibly stop the program to end the loop, without any end result. Well, these things are very technical. Everything will be clear with the following examples."
   ]
  },
  {
   "cell_type": "markdown",
   "metadata": {},
   "source": [
    "**The general structure of `while` loop (The syntax)**\n",
    "```Python\n",
    "while condition:\n",
    "    # CODE BLOCK\n",
    "    # Change the condition as required within the block per iteration\n",
    "```"
   ]
  },
  {
   "cell_type": "markdown",
   "metadata": {},
   "source": [
    "Let us understand `while` loop by printing the numbers 0 to 5.\n",
    "\n",
    "**Printing the numbers 0 to 5 (using `while` loop)**"
   ]
  },
  {
   "cell_type": "code",
   "execution_count": 30,
   "metadata": {},
   "outputs": [
    {
     "name": "stdout",
     "output_type": "stream",
     "text": [
      "0\n",
      "1\n",
      "2\n",
      "3\n",
      "4\n",
      "5\n"
     ]
    }
   ],
   "source": [
    "start = 0\n",
    "end = 5\n",
    "\n",
    "while start <= end: # The condition (start<=end) evaluates to True until start = 5. When start = 6, it Evaluates to False.\n",
    "    print(start)    # printing the value of start\n",
    "    start = start + 1   # Changing the value of start per iteration so that our condition evaluates to False in future."
   ]
  },
  {
   "cell_type": "markdown",
   "metadata": {},
   "source": [
    "Have you got it? If we don't do `start = start + 1`, then the value of start will never change (it will remain `0` forever), so the condition `start <= end` will always return `True`, and that will make us enter into *infinite loop*."
   ]
  },
  {
   "cell_type": "markdown",
   "metadata": {},
   "source": [
    "Here is a look of the code which if executed will be entered into an *infinite loop*.\n",
    "```Python\n",
    "i = 0\n",
    "\n",
    "while i < 2:\n",
    "    print(i)\n",
    "```\n",
    "*Output*\n",
    "```Python\n",
    "0\n",
    "0\n",
    "0\n",
    "...\n",
    "# prints 0 forever\n",
    "```"
   ]
  },
  {
   "cell_type": "markdown",
   "metadata": {},
   "source": [
    "In this condition, to escape from the *infinite loop*, we will increment `i` by 1. When `i = 2`, the condition `i < 2` evaluates to `False`, and Python interpreter will exit out now of the loop."
   ]
  },
  {
   "cell_type": "code",
   "execution_count": 31,
   "metadata": {},
   "outputs": [
    {
     "name": "stdout",
     "output_type": "stream",
     "text": [
      "0\n",
      "1\n"
     ]
    }
   ],
   "source": [
    "i = 0\n",
    "\n",
    "while i < 2:\n",
    "    print(i)\n",
    "    i += 1    # incrementing i by 1 after each looping cycle"
   ]
  },
  {
   "cell_type": "markdown",
   "metadata": {},
   "source": [
    "Now, you must have understood the working of `while` loop. You will be more clear after more upcoming examples."
   ]
  },
  {
   "cell_type": "markdown",
   "metadata": {},
   "source": [
    "**Printing the name \"Smith\" 10 times (using `while` loop)**"
   ]
  },
  {
   "cell_type": "code",
   "execution_count": 32,
   "metadata": {},
   "outputs": [
    {
     "name": "stdout",
     "output_type": "stream",
     "text": [
      "Smith 1\n",
      "Smith 2\n",
      "Smith 3\n",
      "Smith 4\n",
      "Smith 5\n",
      "Smith 6\n",
      "Smith 7\n",
      "Smith 8\n",
      "Smith 9\n",
      "Smith 10\n"
     ]
    }
   ],
   "source": [
    "num_of_printing = 10\n",
    "i = 1\n",
    "\n",
    "while i <= num_of_printing:\n",
    "    print(\"Smith\", i)\n",
    "    i += 1"
   ]
  },
  {
   "cell_type": "markdown",
   "metadata": {},
   "source": [
    "**Printing the number of guest names contained in a list, with a greeting (using `while` loop)**"
   ]
  },
  {
   "cell_type": "code",
   "execution_count": 33,
   "metadata": {},
   "outputs": [
    {
     "name": "stdout",
     "output_type": "stream",
     "text": [
      "['Leonardo DiCaprio', 'Christian Bale', 'Hugh Jackman', 'Matthew McConaughey', 'Brad Pitt', 'Matt Damon', 'Denzel Washington', 'Russell Crowe', 'Benedict Cumberbatch', 'Joaquin Phoenix']\n"
     ]
    }
   ],
   "source": [
    "print(guest_names) # Viewing the previous guest_names list again."
   ]
  },
  {
   "cell_type": "code",
   "execution_count": 34,
   "metadata": {},
   "outputs": [
    {
     "name": "stdout",
     "output_type": "stream",
     "text": [
      "Welcome to the party sponsored by while loop, Mr. Leonardo DiCaprio\n",
      "Welcome to the party sponsored by while loop, Mr. Christian Bale\n",
      "Welcome to the party sponsored by while loop, Mr. Hugh Jackman\n",
      "Welcome to the party sponsored by while loop, Mr. Matthew McConaughey\n",
      "Welcome to the party sponsored by while loop, Mr. Brad Pitt\n",
      "Welcome to the party sponsored by while loop, Mr. Matt Damon\n",
      "Welcome to the party sponsored by while loop, Mr. Denzel Washington\n",
      "Welcome to the party sponsored by while loop, Mr. Russell Crowe\n",
      "Welcome to the party sponsored by while loop, Mr. Benedict Cumberbatch\n",
      "Welcome to the party sponsored by while loop, Mr. Joaquin Phoenix\n"
     ]
    }
   ],
   "source": [
    "greeting = 'Welcome to the party sponsored by while loop, Mr.'\n",
    "index = 0\n",
    "\n",
    "while index < len(guest_names):\n",
    "    print(greeting, guest_names[index])\n",
    "    index += 1"
   ]
  },
  {
   "cell_type": "markdown",
   "metadata": {},
   "source": [
    "You must be wondering when to use `for` loop and when to use `while` loop. Most of the things can be done with both types of loops, but sometimes, `for` loop is more useful, and sometimes, `while` loop. As you gather more experience, you will learn which type of loop is required in different cases. As a general note, if number of iterations is known to you, then you should use a `for` loop, and if number of iterations is not determined, but it is known that till what condition the loop will continue, you should use a `while` loop."
   ]
  },
  {
   "cell_type": "code",
   "execution_count": null,
   "metadata": {},
   "outputs": [],
   "source": [
    "# To be continued"
   ]
  }
 ],
 "metadata": {
  "kernelspec": {
   "display_name": "Python 3",
   "language": "python",
   "name": "python3"
  },
  "language_info": {
   "codemirror_mode": {
    "name": "ipython",
    "version": 3
   },
   "file_extension": ".py",
   "mimetype": "text/x-python",
   "name": "python",
   "nbconvert_exporter": "python",
   "pygments_lexer": "ipython3",
   "version": "3.7.3"
  }
 },
 "nbformat": 4,
 "nbformat_minor": 2
}
