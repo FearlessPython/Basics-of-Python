{
 "cells": [
  {
   "cell_type": "markdown",
   "metadata": {},
   "source": [
    "# Set"
   ]
  },
  {
   "cell_type": "markdown",
   "metadata": {},
   "source": [
    "**Set** is an inbuilt python data-type, in which many elements can be stored. As in **Dictionary**, the ordering of elements in a *Set* do not matter. You can assign any variable to a *set* using curly braces `{}`, and separating the elements using comma `,`."
   ]
  },
  {
   "cell_type": "code",
   "execution_count": 1,
   "metadata": {},
   "outputs": [],
   "source": [
    "a = {'value1', 'value2', 'value3'}"
   ]
  },
  {
   "cell_type": "markdown",
   "metadata": {},
   "source": [
    "The *set* is now created and stored in the variable **a**. You can now print the *set* by using `print(a)`."
   ]
  },
  {
   "cell_type": "code",
   "execution_count": 2,
   "metadata": {},
   "outputs": [
    {
     "name": "stdout",
     "output_type": "stream",
     "text": [
      "{'value2', 'value1', 'value3'}\n"
     ]
    }
   ],
   "source": [
    "print(a)"
   ]
  },
  {
   "cell_type": "markdown",
   "metadata": {},
   "source": [
    "Did you see it? The ordering does not matter. They are unordered. Elements can be arranged randomly within a *set*."
   ]
  },
  {
   "cell_type": "markdown",
   "metadata": {},
   "source": [
    "Let's now check what python calls a *set* by using the `type()` function."
   ]
  },
  {
   "cell_type": "code",
   "execution_count": 3,
   "metadata": {},
   "outputs": [
    {
     "name": "stdout",
     "output_type": "stream",
     "text": [
      "<class 'set'>\n"
     ]
    }
   ],
   "source": [
    "print(type(a)) # prints the type of data of a"
   ]
  },
  {
   "cell_type": "markdown",
   "metadata": {},
   "source": [
    "As expected, python identifies a *Set* by `set`. So, `set` is a reserved keyword in Python, like `dict`, `int`, `str`, `float` etc."
   ]
  },
  {
   "cell_type": "markdown",
   "metadata": {},
   "source": [
    "We can print the length of a set using `len()` function."
   ]
  },
  {
   "cell_type": "code",
   "execution_count": 4,
   "metadata": {},
   "outputs": [
    {
     "name": "stdout",
     "output_type": "stream",
     "text": [
      "3\n"
     ]
    }
   ],
   "source": [
    "print(len(a))"
   ]
  },
  {
   "cell_type": "markdown",
   "metadata": {},
   "source": [
    "Nothing new here. It's all as expected.\n",
    "\n",
    "Let's create an empty set using the curly braces `{}`."
   ]
  },
  {
   "cell_type": "code",
   "execution_count": 5,
   "metadata": {},
   "outputs": [],
   "source": [
    "empty_set = {}"
   ]
  },
  {
   "cell_type": "markdown",
   "metadata": {},
   "source": [
    "Let's check the type of `empty_set`."
   ]
  },
  {
   "cell_type": "code",
   "execution_count": 6,
   "metadata": {},
   "outputs": [
    {
     "name": "stdout",
     "output_type": "stream",
     "text": [
      "<class 'dict'>\n"
     ]
    }
   ],
   "source": [
    "print(type(empty_set))"
   ]
  },
  {
   "cell_type": "markdown",
   "metadata": {},
   "source": [
    "Woah! It was not an empty set. It is an empty dictionary. So, can we create empty set at all in Python?\n",
    "\n",
    "The answer is **Yes**. But it's not as usual other empty data-types are created like *string*(`''`), *list*(`[]`), *dictionary*(`{}`) etc. It's a little bit tricky.\n",
    "\n",
    "Not that much tricky as you are thinking. Just use `set()` without any arguments."
   ]
  },
  {
   "cell_type": "code",
   "execution_count": 7,
   "metadata": {},
   "outputs": [
    {
     "name": "stdout",
     "output_type": "stream",
     "text": [
      "<class 'set'>\n"
     ]
    }
   ],
   "source": [
    "empty_set = set()\n",
    "print(type(empty_set))"
   ]
  },
  {
   "cell_type": "markdown",
   "metadata": {},
   "source": [
    "Yes! Now the things are going well.\n",
    "\n",
    "Now, what are the accepted data-types in *Sets*? **A *Set* can only have *immutable* data-types**, like *strings*, *tuples*, *numbers* (*integers*, *floats*, *complex*) or *boolean*. **A *Set* cannot have *mutable* data-types** within it, like, *lists*, *dictionaries*, or other *sets*. So, a *Set* **cannot** be inserted within another *Set*. And a *set* can cantain *mixed* data-types as shown below."
   ]
  },
  {
   "cell_type": "code",
   "execution_count": 8,
   "metadata": {},
   "outputs": [
    {
     "name": "stdout",
     "output_type": "stream",
     "text": [
      "{1, 2, 3, 4, 5}\n"
     ]
    }
   ],
   "source": [
    "# A valid Set\n",
    "set1 = {1, 2, 3, 4, 5} # All same data-types, i.e., integers\n",
    "print(set1)"
   ]
  },
  {
   "cell_type": "code",
   "execution_count": 9,
   "metadata": {},
   "outputs": [
    {
     "name": "stdout",
     "output_type": "stream",
     "text": [
      "{1, 3.0, 'Two', (4+1j), ('I', 'like', 'Python')}\n"
     ]
    }
   ],
   "source": [
    "# Another valid Set\n",
    "set2 = {1, 'Two', 3.0, 4+1j, ('I', 'like', 'Python')} # Mixed data-types, i.e., integer, string, float, complex, tuple.\n",
    "print(set2)"
   ]
  },
  {
   "cell_type": "code",
   "execution_count": 10,
   "metadata": {},
   "outputs": [
    {
     "ename": "TypeError",
     "evalue": "unhashable type: 'list'",
     "output_type": "error",
     "traceback": [
      "\u001b[1;31m---------------------------------------------------------------------------\u001b[0m",
      "\u001b[1;31mTypeError\u001b[0m                                 Traceback (most recent call last)",
      "\u001b[1;32m<ipython-input-10-3b4153ab32db>\u001b[0m in \u001b[0;36m<module>\u001b[1;34m\u001b[0m\n\u001b[0;32m      1\u001b[0m \u001b[1;31m# An invalid Set\u001b[0m\u001b[1;33m\u001b[0m\u001b[1;33m\u001b[0m\u001b[1;33m\u001b[0m\u001b[0m\n\u001b[1;32m----> 2\u001b[1;33m \u001b[0mset3\u001b[0m \u001b[1;33m=\u001b[0m \u001b[1;33m{\u001b[0m\u001b[1;36m1\u001b[0m\u001b[1;33m,\u001b[0m \u001b[1;36m2\u001b[0m\u001b[1;33m,\u001b[0m \u001b[1;33m[\u001b[0m\u001b[1;34m'Python'\u001b[0m\u001b[1;33m,\u001b[0m \u001b[1;34m'Ruby'\u001b[0m\u001b[1;33m,\u001b[0m \u001b[1;34m'JavaScript'\u001b[0m\u001b[1;33m,\u001b[0m \u001b[1;34m'C++'\u001b[0m\u001b[1;33m]\u001b[0m\u001b[1;33m,\u001b[0m \u001b[1;33m{\u001b[0m\u001b[1;34m'Apples'\u001b[0m\u001b[1;33m:\u001b[0m \u001b[1;36m2\u001b[0m\u001b[1;33m,\u001b[0m \u001b[1;34m'Banana'\u001b[0m\u001b[1;33m:\u001b[0m \u001b[1;36m6\u001b[0m\u001b[1;33m}\u001b[0m\u001b[1;33m}\u001b[0m\u001b[1;33m\u001b[0m\u001b[1;33m\u001b[0m\u001b[0m\n\u001b[0m\u001b[0;32m      3\u001b[0m \u001b[0mprint\u001b[0m\u001b[1;33m(\u001b[0m\u001b[0mset3\u001b[0m\u001b[1;33m)\u001b[0m\u001b[1;33m\u001b[0m\u001b[1;33m\u001b[0m\u001b[0m\n",
      "\u001b[1;31mTypeError\u001b[0m: unhashable type: 'list'"
     ]
    }
   ],
   "source": [
    "# An invalid Set\n",
    "set3 = {1, 2, ['Python', 'Ruby', 'JavaScript', 'C++'], {'Apples': 2, 'Banana': 6}}\n",
    "print(set3)"
   ]
  },
  {
   "cell_type": "markdown",
   "metadata": {},
   "source": [
    "`TypeError` is raised, because **mutable** data-types were inserted in the *Set*."
   ]
  },
  {
   "cell_type": "code",
   "execution_count": 11,
   "metadata": {},
   "outputs": [
    {
     "ename": "TypeError",
     "evalue": "unhashable type: 'set'",
     "output_type": "error",
     "traceback": [
      "\u001b[1;31m---------------------------------------------------------------------------\u001b[0m",
      "\u001b[1;31mTypeError\u001b[0m                                 Traceback (most recent call last)",
      "\u001b[1;32m<ipython-input-11-f8d4a944f9cf>\u001b[0m in \u001b[0;36m<module>\u001b[1;34m\u001b[0m\n\u001b[0;32m      1\u001b[0m \u001b[1;31m# Another invalid Set\u001b[0m\u001b[1;33m\u001b[0m\u001b[1;33m\u001b[0m\u001b[1;33m\u001b[0m\u001b[0m\n\u001b[1;32m----> 2\u001b[1;33m \u001b[0mset4\u001b[0m \u001b[1;33m=\u001b[0m \u001b[1;33m{\u001b[0m\u001b[1;34m'Mathematics'\u001b[0m\u001b[1;33m,\u001b[0m \u001b[0mset1\u001b[0m\u001b[1;33m,\u001b[0m \u001b[0mset2\u001b[0m\u001b[1;33m,\u001b[0m \u001b[1;34m'Physics'\u001b[0m\u001b[1;33m}\u001b[0m \u001b[1;31m# set1 and set2 are being supplied within set4\u001b[0m\u001b[1;33m\u001b[0m\u001b[1;33m\u001b[0m\u001b[0m\n\u001b[0m\u001b[0;32m      3\u001b[0m \u001b[0mprint\u001b[0m\u001b[1;33m(\u001b[0m\u001b[0mset4\u001b[0m\u001b[1;33m)\u001b[0m\u001b[1;33m\u001b[0m\u001b[1;33m\u001b[0m\u001b[0m\n",
      "\u001b[1;31mTypeError\u001b[0m: unhashable type: 'set'"
     ]
    }
   ],
   "source": [
    "# Another invalid Set\n",
    "set4 = {'Mathematics', set1, set2, 'Physics'} # set1 and set2 are being supplied within set4\n",
    "print(set4)"
   ]
  },
  {
   "cell_type": "markdown",
   "metadata": {},
   "source": [
    "As expected, a *Set* cannot be in another *Set*."
   ]
  },
  {
   "cell_type": "markdown",
   "metadata": {},
   "source": [
    "### Using variables in Set"
   ]
  },
  {
   "cell_type": "markdown",
   "metadata": {},
   "source": [
    "Suppose we declare some variables below."
   ]
  },
  {
   "cell_type": "code",
   "execution_count": 12,
   "metadata": {},
   "outputs": [],
   "source": [
    "Veg_foods = ('Pulses', 'Nuts', 'Grains', 'Vegetables') # Tuple\n",
    "Fruits = ('Orange', 'Apple') # Tuple\n",
    "\n",
    "# Set containing variables Veg_foods and Non_Veg_foods\n",
    "My_diet = {Veg_foods, Fruits}"
   ]
  },
  {
   "cell_type": "markdown",
   "metadata": {},
   "source": [
    "What should be the outcome if we print `My_diet`. Will it be printed with the variable names, or with the data that is stored in that variable names?"
   ]
  },
  {
   "cell_type": "code",
   "execution_count": 13,
   "metadata": {},
   "outputs": [
    {
     "name": "stdout",
     "output_type": "stream",
     "text": [
      "{('Pulses', 'Nuts', 'Grains', 'Vegetables'), ('Orange', 'Apple')}\n"
     ]
    }
   ],
   "source": [
    "print(My_diet)"
   ]
  },
  {
   "cell_type": "markdown",
   "metadata": {},
   "source": [
    "You must have understood by now what we meant to say."
   ]
  },
  {
   "cell_type": "markdown",
   "metadata": {},
   "source": [
    "### Is Set mutable or immutable?"
   ]
  },
  {
   "cell_type": "markdown",
   "metadata": {},
   "source": [
    "We said sometime ago that a *Set* cannot contain *mutable* data-types. A *Set* also cannot contain another *Set*. That means, *Set* must be *mutable*. And it's true. They are *mutable*."
   ]
  },
  {
   "cell_type": "markdown",
   "metadata": {},
   "source": [
    "But how to *add* or *remove* data in a *Set*. First let's see the methods to **Add** elements. Since ordering does not matter in *Sets*, so there is no question of *indexing*. So, `My_diet[0]` will not work."
   ]
  },
  {
   "cell_type": "code",
   "execution_count": 14,
   "metadata": {},
   "outputs": [
    {
     "ename": "TypeError",
     "evalue": "'set' object is not subscriptable",
     "output_type": "error",
     "traceback": [
      "\u001b[1;31m---------------------------------------------------------------------------\u001b[0m",
      "\u001b[1;31mTypeError\u001b[0m                                 Traceback (most recent call last)",
      "\u001b[1;32m<ipython-input-14-717052f73e2f>\u001b[0m in \u001b[0;36m<module>\u001b[1;34m\u001b[0m\n\u001b[1;32m----> 1\u001b[1;33m \u001b[0mprint\u001b[0m\u001b[1;33m(\u001b[0m\u001b[0mMy_diet\u001b[0m\u001b[1;33m[\u001b[0m\u001b[1;36m0\u001b[0m\u001b[1;33m]\u001b[0m\u001b[1;33m)\u001b[0m\u001b[1;33m\u001b[0m\u001b[1;33m\u001b[0m\u001b[0m\n\u001b[0m",
      "\u001b[1;31mTypeError\u001b[0m: 'set' object is not subscriptable"
     ]
    }
   ],
   "source": [
    "print(My_diet[0])"
   ]
  },
  {
   "cell_type": "markdown",
   "metadata": {},
   "source": [
    "`TypeError` is raised, because *indexing* does not work in *Sets*, as in *Dictionaries*.\n",
    "\n",
    "#### Adding elements in a Set\n",
    "There are two methods to add elements in a *Set*.\n",
    "* `add()`   : A single element can be added in the *Set*.\n",
    "* `update()`: Multiple elements can be added in the *Set*."
   ]
  },
  {
   "cell_type": "code",
   "execution_count": 15,
   "metadata": {},
   "outputs": [
    {
     "name": "stdout",
     "output_type": "stream",
     "text": [
      "{'Physics', 'Chemistry', 'Mathematics'}\n"
     ]
    }
   ],
   "source": [
    "# Defining a new Set\n",
    "science = {'Chemistry', 'Physics', 'Mathematics'}\n",
    "print(science)"
   ]
  },
  {
   "cell_type": "code",
   "execution_count": 16,
   "metadata": {},
   "outputs": [
    {
     "name": "stdout",
     "output_type": "stream",
     "text": [
      "{'Botany', 'Physics', 'Chemistry', 'Mathematics'}\n"
     ]
    }
   ],
   "source": [
    "# Adding sinle element\n",
    "science.add('Botany')\n",
    "print(science)"
   ]
  },
  {
   "cell_type": "code",
   "execution_count": 17,
   "metadata": {},
   "outputs": [
    {
     "name": "stdout",
     "output_type": "stream",
     "text": [
      "{'Botany', 'Physics', 'Mathematics', 'Zoology', 'Microbiology', 'Chemistry'}\n"
     ]
    }
   ],
   "source": [
    "# Adding multiple elements\n",
    "science.update({'Zoology', 'Microbiology'})\n",
    "print(science)"
   ]
  },
  {
   "cell_type": "markdown",
   "metadata": {},
   "source": [
    "```\n",
    "# All the things below is equivalent to what written above.\n",
    "science.update(['Zoology', 'Microbiology'])\n",
    "science.update(('Zoology', 'Microbiology'))\n",
    "```"
   ]
  },
  {
   "cell_type": "markdown",
   "metadata": {},
   "source": [
    "Same element cannot be present in a *Set* multiple times. If an element which is already present in a *Set* is added again, it is overwritten, making a no net change."
   ]
  },
  {
   "cell_type": "code",
   "execution_count": 18,
   "metadata": {},
   "outputs": [
    {
     "name": "stdout",
     "output_type": "stream",
     "text": [
      "{'Botany', 'Physics', 'Mathematics', 'Zoology', 'Microbiology', 'Chemistry'}\n"
     ]
    }
   ],
   "source": [
    "# Adding 'Zoology', 'Microbiology' again\n",
    "science.update(['Zoology', 'Microbiology'])\n",
    "print(science)"
   ]
  },
  {
   "cell_type": "markdown",
   "metadata": {},
   "source": [
    "Inside the `update()` method, if you don't use extra `()`, or `[]`, or `{}`, then, the consequence is not good."
   ]
  },
  {
   "cell_type": "code",
   "execution_count": 19,
   "metadata": {},
   "outputs": [
    {
     "name": "stdout",
     "output_type": "stream",
     "text": [
      "{'Botany', 'Mathematics', 's', ' ', 'Physics', 'n', 't', 'r', 'i', 'm', 'C', 'p', 'o', 'u', 'e', 'Microbiology', 'Chemistry', 'a', 'c', 'S', 'Zoology'}\n"
     ]
    }
   ],
   "source": [
    "science.update('Computer Science', 'Statistics')\n",
    "print(science)"
   ]
  },
  {
   "cell_type": "markdown",
   "metadata": {},
   "source": [
    "Each character of the element get separated from each other, and each one is added individually in the *Set*.\n",
    "\n",
    "Note: An added element is not added again. So, only 1 's' will be added if multiple 's' are present."
   ]
  },
  {
   "cell_type": "markdown",
   "metadata": {},
   "source": [
    "We have added enough contents in the *Set*. Now, it is time to delete elements."
   ]
  },
  {
   "cell_type": "markdown",
   "metadata": {},
   "source": [
    "#### Deleting elements from a Set\n",
    "There are several methods to delete elements from a *Set*.\n",
    "* `discard()`: Include the value inside the parenthesis to remove it. It does not do anything if the value is not present in the *Set*.\n",
    "* `remove()`: Include the value inside the parenthesis to remove it. It throws an error if the value is not present in the *Set*.\n",
    "* `pop()`: Removes any one element randomly, since ordering does not matter in *Sets*.\n",
    "* `clear()`: The whole *Set* is cleared and emptied.\n",
    "\n",
    "Let's see each one with examples."
   ]
  },
  {
   "cell_type": "code",
   "execution_count": 20,
   "metadata": {},
   "outputs": [
    {
     "name": "stdout",
     "output_type": "stream",
     "text": [
      "set()\n"
     ]
    }
   ],
   "source": [
    "# clearing the old science set, since it is messed up\n",
    "science.clear()\n",
    "print(science)"
   ]
  },
  {
   "cell_type": "markdown",
   "metadata": {},
   "source": [
    "We used `clear()` method to empty our *Set*. It is also a way to define an empty *set* other than `science = set()`."
   ]
  },
  {
   "cell_type": "code",
   "execution_count": 21,
   "metadata": {},
   "outputs": [
    {
     "name": "stdout",
     "output_type": "stream",
     "text": [
      "{'Mathematics', 'Biology', 'Chemistry', 'Computer Science', 'Geography', 'Physics', 'History', 'Zoology'}\n"
     ]
    }
   ],
   "source": [
    "# Adding subjects in the empty set\n",
    "science.update({'Mathematics', 'Zoology', 'Physics', 'Geography', 'History', 'Chemistry', 'Computer Science', 'Biology'})\n",
    "print(science)"
   ]
  },
  {
   "cell_type": "markdown",
   "metadata": {},
   "source": [
    "Let's remove `'History'` from the *set* using `discard()`."
   ]
  },
  {
   "cell_type": "code",
   "execution_count": 22,
   "metadata": {},
   "outputs": [
    {
     "name": "stdout",
     "output_type": "stream",
     "text": [
      "{'Mathematics', 'Biology', 'Chemistry', 'Computer Science', 'Geography', 'Physics', 'History', 'Zoology'}\n"
     ]
    }
   ],
   "source": [
    "science.discard('HISTORY')\n",
    "print(science)"
   ]
  },
  {
   "cell_type": "markdown",
   "metadata": {},
   "source": [
    "Oops! `'HISTORY'` is not present in the *set*, but `'History'` is present. We used `discard()`, that's why the *set* is unchanged and no errors were raised. Let's do that again correctly."
   ]
  },
  {
   "cell_type": "code",
   "execution_count": 23,
   "metadata": {},
   "outputs": [
    {
     "name": "stdout",
     "output_type": "stream",
     "text": [
      "{'Mathematics', 'Biology', 'Chemistry', 'Computer Science', 'Geography', 'Physics', 'Zoology'}\n"
     ]
    }
   ],
   "source": [
    "science.discard('History')\n",
    "print(science)"
   ]
  },
  {
   "cell_type": "markdown",
   "metadata": {},
   "source": [
    "`'History'` is successfully removed.\n",
    "\n",
    "Now we will use `remove()` method to remove `'Geography'`."
   ]
  },
  {
   "cell_type": "code",
   "execution_count": 24,
   "metadata": {},
   "outputs": [
    {
     "ename": "KeyError",
     "evalue": "'Geology'",
     "output_type": "error",
     "traceback": [
      "\u001b[1;31m---------------------------------------------------------------------------\u001b[0m",
      "\u001b[1;31mKeyError\u001b[0m                                  Traceback (most recent call last)",
      "\u001b[1;32m<ipython-input-24-ea31414cecbd>\u001b[0m in \u001b[0;36m<module>\u001b[1;34m\u001b[0m\n\u001b[1;32m----> 1\u001b[1;33m \u001b[0mscience\u001b[0m\u001b[1;33m.\u001b[0m\u001b[0mremove\u001b[0m\u001b[1;33m(\u001b[0m\u001b[1;34m'Geology'\u001b[0m\u001b[1;33m)\u001b[0m\u001b[1;33m\u001b[0m\u001b[1;33m\u001b[0m\u001b[0m\n\u001b[0m\u001b[0;32m      2\u001b[0m \u001b[0mprint\u001b[0m\u001b[1;33m(\u001b[0m\u001b[0mscience\u001b[0m\u001b[1;33m)\u001b[0m\u001b[1;33m\u001b[0m\u001b[1;33m\u001b[0m\u001b[0m\n",
      "\u001b[1;31mKeyError\u001b[0m: 'Geology'"
     ]
    }
   ],
   "source": [
    "science.remove('Geology')\n",
    "print(science)"
   ]
  },
  {
   "cell_type": "markdown",
   "metadata": {},
   "source": [
    "I supplied `'Geology'` as argument instead of `'Geography'`. `'Geology'` is not present in the *Set*, so `remove()` method raises `KeyError`. That's the difference between `discard()` and `remove()`.\n",
    "\n",
    "We do this correctly again."
   ]
  },
  {
   "cell_type": "code",
   "execution_count": 25,
   "metadata": {},
   "outputs": [
    {
     "name": "stdout",
     "output_type": "stream",
     "text": [
      "{'Mathematics', 'Biology', 'Chemistry', 'Computer Science', 'Physics', 'Zoology'}\n"
     ]
    }
   ],
   "source": [
    "science.remove('Geography')\n",
    "print(science)"
   ]
  },
  {
   "cell_type": "markdown",
   "metadata": {},
   "source": [
    "Successfully deleted `'Geography'` from science *set*.\n",
    "\n",
    "Let's use `pop()` method, in which any random element will be deleted."
   ]
  },
  {
   "cell_type": "code",
   "execution_count": 26,
   "metadata": {},
   "outputs": [
    {
     "name": "stdout",
     "output_type": "stream",
     "text": [
      "{'Biology', 'Chemistry', 'Computer Science', 'Physics', 'Zoology'}\n"
     ]
    }
   ],
   "source": [
    "science.pop()\n",
    "print(science)"
   ]
  },
  {
   "cell_type": "markdown",
   "metadata": {},
   "source": [
    "Have you spotted which one is removed?"
   ]
  },
  {
   "cell_type": "markdown",
   "metadata": {},
   "source": [
    "### Set operations"
   ]
  },
  {
   "cell_type": "markdown",
   "metadata": {},
   "source": [
    "There is a whole field of mathematics about [*Sets*](https://en.wikipedia.org/wiki/Set_(mathematics)). As in mathematics, *sets* are similar here. There are many *set* operations, like **union**, **intersection**, **difference** etc. We will discuss them here."
   ]
  },
  {
   "cell_type": "markdown",
   "metadata": {},
   "source": [
    "#### Set Union"
   ]
  },
  {
   "cell_type": "markdown",
   "metadata": {},
   "source": [
    "Let us define two sets **A** and **B**, with which we will perform *set operations*."
   ]
  },
  {
   "cell_type": "code",
   "execution_count": 27,
   "metadata": {},
   "outputs": [],
   "source": [
    "A = {1, 2, 3, 4, 5}\n",
    "B = {4, 5, 6, 7, 8}"
   ]
  },
  {
   "cell_type": "markdown",
   "metadata": {},
   "source": [
    "Notice that **A** and **B** have two elements in common, 4 and 5. Union of **A** and **B** is written as $ A \\cup B $ in mathematics. Which means that two sets will be merged, and all the elements will be unique. Same element cannot be present multiple times.\n",
    "\n",
    "\\begin{align*}\n",
    "A \\cup B &= \\{1, 2, 3, 4, 5, 6, 7, 8\\}  \\\\\n",
    "A \\cup B &\\ne \\{1, 2, 3, 4, 4, 5, 5, 6, 7, 8\\}\n",
    "\\end{align*}\n",
    "\n",
    "This is the mathematics. Let's do this in Python. In Python this operation is done by using `|` symbol. The same thing can be done using `union()` method."
   ]
  },
  {
   "cell_type": "code",
   "execution_count": 28,
   "metadata": {},
   "outputs": [
    {
     "name": "stdout",
     "output_type": "stream",
     "text": [
      "{1, 2, 3, 4, 5, 6, 7, 8}\n"
     ]
    }
   ],
   "source": [
    "print(A | B)"
   ]
  },
  {
   "cell_type": "code",
   "execution_count": 29,
   "metadata": {},
   "outputs": [
    {
     "name": "stdout",
     "output_type": "stream",
     "text": [
      "{1, 2, 3, 4, 5, 6, 7, 8}\n"
     ]
    }
   ],
   "source": [
    "print(B | A)"
   ]
  },
  {
   "cell_type": "code",
   "execution_count": 30,
   "metadata": {},
   "outputs": [
    {
     "name": "stdout",
     "output_type": "stream",
     "text": [
      "{1, 2, 3, 4, 5, 6, 7, 8}\n"
     ]
    }
   ],
   "source": [
    "print(A.union(B)) # Doing A | B"
   ]
  },
  {
   "cell_type": "code",
   "execution_count": 31,
   "metadata": {},
   "outputs": [
    {
     "name": "stdout",
     "output_type": "stream",
     "text": [
      "{1, 2, 3, 4, 5, 6, 7, 8}\n"
     ]
    }
   ],
   "source": [
    "print(B.union(A)) # Doing B | A"
   ]
  },
  {
   "cell_type": "markdown",
   "metadata": {},
   "source": [
    "All gave same results. That means set union is *commutative*. Which means\n",
    "\n",
    "\\begin{equation*}\n",
    "A \\cup B = B \\cup A\n",
    "\\end{equation*}"
   ]
  },
  {
   "cell_type": "markdown",
   "metadata": {},
   "source": [
    "#### Set Intersection"
   ]
  },
  {
   "cell_type": "markdown",
   "metadata": {},
   "source": [
    "Intersection of **A** and **B** is written as $A \\cap B$ in mathematics. Which means that the intersection of **A** and **B** will have only those elements which are common in both *sets*. In this case, 4 and 5 are common in both **A** and **B**.\n",
    "\n",
    "\\begin{equation*}\n",
    "A \\cap B = \\{4, 5\\}\n",
    "\\end{equation*}\n",
    "\n",
    "This is the mathematics. Let's do this in Python. In Python, this operation is done using `&` symbol. The same thing can be done by using `intersection()` method."
   ]
  },
  {
   "cell_type": "code",
   "execution_count": 32,
   "metadata": {},
   "outputs": [
    {
     "name": "stdout",
     "output_type": "stream",
     "text": [
      "{4, 5}\n"
     ]
    }
   ],
   "source": [
    "print(A & B)"
   ]
  },
  {
   "cell_type": "code",
   "execution_count": 33,
   "metadata": {},
   "outputs": [
    {
     "name": "stdout",
     "output_type": "stream",
     "text": [
      "{4, 5}\n"
     ]
    }
   ],
   "source": [
    "print(B & A)"
   ]
  },
  {
   "cell_type": "code",
   "execution_count": 34,
   "metadata": {},
   "outputs": [
    {
     "name": "stdout",
     "output_type": "stream",
     "text": [
      "{4, 5}\n"
     ]
    }
   ],
   "source": [
    "print(A.intersection(B)) # Doing A & B"
   ]
  },
  {
   "cell_type": "code",
   "execution_count": 35,
   "metadata": {},
   "outputs": [
    {
     "name": "stdout",
     "output_type": "stream",
     "text": [
      "{4, 5}\n"
     ]
    }
   ],
   "source": [
    "print(B.intersection(A)) # Doing B & A"
   ]
  },
  {
   "cell_type": "markdown",
   "metadata": {},
   "source": [
    "All gave same results. That means set intersection is *commutative*. Which means\n",
    "\n",
    "\\begin{equation*}\n",
    "A \\cap B = B \\cap A\n",
    "\\end{equation*}"
   ]
  },
  {
   "cell_type": "markdown",
   "metadata": {},
   "source": [
    "#### Set Difference"
   ]
  },
  {
   "cell_type": "markdown",
   "metadata": {},
   "source": [
    "Difference of set **A** from set **B**, which is $(A - B)$, is the set of elements that are only in **A**, but not in **B**. In this case,\n",
    "\n",
    "\\begin{align*}\n",
    "A &= \\{1, 2, 3, 4, 5\\} \\\\\n",
    "B &= \\{4, 5, 6, 7, 8\\} \\\\\n",
    "A - B &= \\{1, 2, 3\\}\n",
    "\\end{align*}\n",
    "\n",
    "In Python, this operation is done using `-` symbol. The same thing can be done using `difference()` method."
   ]
  },
  {
   "cell_type": "code",
   "execution_count": 36,
   "metadata": {},
   "outputs": [
    {
     "name": "stdout",
     "output_type": "stream",
     "text": [
      "{1, 2, 3}\n"
     ]
    }
   ],
   "source": [
    "print(A - B)"
   ]
  },
  {
   "cell_type": "markdown",
   "metadata": {},
   "source": [
    "Note that $A - B$ is not same as $B - A$. They give different results."
   ]
  },
  {
   "cell_type": "code",
   "execution_count": 37,
   "metadata": {},
   "outputs": [
    {
     "name": "stdout",
     "output_type": "stream",
     "text": [
      "{8, 6, 7}\n"
     ]
    }
   ],
   "source": [
    "print(B - A)"
   ]
  },
  {
   "cell_type": "code",
   "execution_count": 38,
   "metadata": {},
   "outputs": [
    {
     "name": "stdout",
     "output_type": "stream",
     "text": [
      "{1, 2, 3}\n"
     ]
    }
   ],
   "source": [
    "print(A.difference(B)) # A - B"
   ]
  },
  {
   "cell_type": "code",
   "execution_count": 39,
   "metadata": {},
   "outputs": [
    {
     "name": "stdout",
     "output_type": "stream",
     "text": [
      "{8, 6, 7}\n"
     ]
    }
   ],
   "source": [
    "print(B.difference(A)) # B - A"
   ]
  },
  {
   "cell_type": "markdown",
   "metadata": {},
   "source": [
    "That means *set difference* is **not** *commutative*.\n",
    "\n",
    "\\begin{equation*}\n",
    "A - B \\ne B - A\n",
    "\\end{equation*}"
   ]
  },
  {
   "cell_type": "markdown",
   "metadata": {},
   "source": [
    "#### Set Symmetric Difference"
   ]
  },
  {
   "cell_type": "markdown",
   "metadata": {},
   "source": [
    "Symmetric Difference of **A** and **B** is a set of elements in **A** and **B** but not in both (excluding the intersection). It can be represented by $(A \\cup B) - (A \\cap B)$.\n",
    "\n",
    "\\begin{align*}\n",
    "A &= \\{1, 2, 3, 4, 5\\} \\\\\n",
    "B &= \\{4, 5, 6, 7, 8\\} \\\\\n",
    "(A \\cup B) - (A \\cap B) &= \\{1, 2, 3, 6, 7, 8\\}\n",
    "\\end{align*}\n",
    "\n",
    "In Python, this operation is done using `^` symbol. The same thing can be done using `symmetric_difference()` method."
   ]
  },
  {
   "cell_type": "code",
   "execution_count": 40,
   "metadata": {},
   "outputs": [
    {
     "name": "stdout",
     "output_type": "stream",
     "text": [
      "{1, 2, 3, 6, 7, 8}\n"
     ]
    }
   ],
   "source": [
    "print(A^B)"
   ]
  },
  {
   "cell_type": "code",
   "execution_count": 41,
   "metadata": {},
   "outputs": [
    {
     "name": "stdout",
     "output_type": "stream",
     "text": [
      "{1, 2, 3, 6, 7, 8}\n"
     ]
    }
   ],
   "source": [
    "print(B^A)"
   ]
  },
  {
   "cell_type": "code",
   "execution_count": 42,
   "metadata": {},
   "outputs": [
    {
     "name": "stdout",
     "output_type": "stream",
     "text": [
      "{1, 2, 3, 6, 7, 8}\n"
     ]
    }
   ],
   "source": [
    "print(A.symmetric_difference(B)) # A^B"
   ]
  },
  {
   "cell_type": "code",
   "execution_count": 43,
   "metadata": {},
   "outputs": [
    {
     "name": "stdout",
     "output_type": "stream",
     "text": [
      "{1, 2, 3, 6, 7, 8}\n"
     ]
    }
   ],
   "source": [
    "print(B.symmetric_difference(A)) # B^A"
   ]
  },
  {
   "cell_type": "markdown",
   "metadata": {},
   "source": [
    "All gave same results. That means set symmetric difference is *commutative*. Which means\n",
    "\n",
    "\\begin{equation*}\n",
    "(A \\cup B) - (A \\cap B) = (B \\cup A) - (B \\cap A)\n",
    "\\end{equation*}"
   ]
  }
 ],
 "metadata": {
  "kernelspec": {
   "display_name": "Python 3",
   "language": "python",
   "name": "python3"
  },
  "language_info": {
   "codemirror_mode": {
    "name": "ipython",
    "version": 3
   },
   "file_extension": ".py",
   "mimetype": "text/x-python",
   "name": "python",
   "nbconvert_exporter": "python",
   "pygments_lexer": "ipython3",
   "version": "3.7.3"
  }
 },
 "nbformat": 4,
 "nbformat_minor": 2
}
