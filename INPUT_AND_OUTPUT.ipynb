{
 "cells": [
  {
   "cell_type": "markdown",
   "metadata": {},
   "source": [
    "# Input and Output"
   ]
  },
  {
   "cell_type": "markdown",
   "metadata": {},
   "source": [
    "As we have already encountered the *data types*, I think, it's clear to you that *Python* is one of the smartest programming languages. So a smart language has a very smart way to have **Input** and display its **Output**. \n",
    "Before going into this, we must know **What is Input and Output? Why we need these?**  \n",
    "\n",
    "**Input** and **Output** (I/O) functionalities of a programming language are the most important tools to interact with human (The User). Actually, it is the process to run a program with the user given data and after completion, show its result. This function is called to tell the program to stop and wait for the user to input the values.\n",
    "\n",
    "A lot of programming languages are there, which have complicated ways to get input and display the output, **Python** has the simplest way out here. In **Python** usually we use two *built-in* functions  `input()` and `print()` for standard I/O Operations. Let's check it.\n",
    "\n",
    "\n",
    " *(as we are talking about updated version of python so our discussion is confined to python 3 and upper versions; however only a few changes is need for python 2 , I think it's better to go for an updated version)*"
   ]
  },
  {
   "cell_type": "markdown",
   "metadata": {},
   "source": [
    "## The Python inbuilt `input()` function"
   ]
  },
  {
   "cell_type": "code",
   "execution_count": 1,
   "metadata": {},
   "outputs": [
    {
     "name": "stdout",
     "output_type": "stream",
     "text": [
      "Hello world\n",
      "Hello world\n"
     ]
    }
   ],
   "source": [
    "A = input()\n",
    "print(A)"
   ]
  },
  {
   "cell_type": "markdown",
   "metadata": {},
   "source": [
    "We cannot show in this Jupyter notebook that how the Python interpreter/shell waits for the user to enter an input. But we have included the image below, how it looks *before* entering the input and *after* entering the input."
   ]
  },
  {
   "cell_type": "markdown",
   "metadata": {},
   "source": [
    "![How computer waits for input of user](Images/Input_1.PNG)\n",
    ">How computer waits for the input of the user.\n",
    "\n",
    "![Entering the desired input](Images/Input_2.PNG)\n",
    ">How it looks after typing the input, but not pressing \"Enter\" yet."
   ]
  },
  {
   "cell_type": "markdown",
   "metadata": {},
   "source": [
    "In the previous example we have a input assigned to a variable `A` , and `print(A)` displays the assigned value of `A`. Here, two `\"Hello world\"` is printed because it is Jupyter notebook, and it is like a Python shell. It prints the 1st line, i.e., `A`, and then prints the value of `A` due to `print(A)`. But if you try out this in an editor, and execute your program, then you should see only one output, one and only due to `print(A)`.\n",
    "\n",
    "Now if we want to convey a message with the `input()`, how to deal with? "
   ]
  },
  {
   "cell_type": "code",
   "execution_count": 2,
   "metadata": {},
   "outputs": [
    {
     "name": "stdout",
     "output_type": "stream",
     "text": [
      "Enter something : FearlessPython\n",
      "FearlessPython\n"
     ]
    }
   ],
   "source": [
    "S = input(\"Enter something : \") # see we've used (\"\") - the quotation mark with the input function to display the message\n",
    "# Also the spaces used within the quotation marks appears at the output at same places\n",
    "print(S)"
   ]
  },
  {
   "cell_type": "code",
   "execution_count": 3,
   "metadata": {},
   "outputs": [
    {
     "name": "stdout",
     "output_type": "stream",
     "text": [
      "enter a number: 29\n",
      "29\n"
     ]
    }
   ],
   "source": [
    "D = input(\"enter a number: \")\n",
    "print(D)"
   ]
  },
  {
   "cell_type": "markdown",
   "metadata": {},
   "source": [
    "But hey, didn't we check the *data-types* ? Let's check it."
   ]
  },
  {
   "cell_type": "code",
   "execution_count": 4,
   "metadata": {},
   "outputs": [
    {
     "data": {
      "text/plain": [
       "(str, str, str)"
      ]
     },
     "execution_count": 4,
     "metadata": {},
     "output_type": "execute_result"
    }
   ],
   "source": [
    "type(A), type(S), type(D)"
   ]
  },
  {
   "cell_type": "markdown",
   "metadata": {},
   "source": [
    "What's wrong with the number `29`? We inputted an integer number to `D` but `type(D)` is showing the data-type as string (`str`). Actually you have to clarify which type of data you want as an **input**. Otherwise, by default it will treat it as a string. See the following examples for better understanding."
   ]
  },
  {
   "cell_type": "code",
   "execution_count": 5,
   "metadata": {},
   "outputs": [
    {
     "name": "stdout",
     "output_type": "stream",
     "text": [
      "Enter a integer number: 9\n"
     ]
    }
   ],
   "source": [
    "a1 = int(input(\"Enter a integer number: \")) # It means only integer type data are to be assigned to a1."
   ]
  },
  {
   "cell_type": "code",
   "execution_count": 6,
   "metadata": {},
   "outputs": [
    {
     "name": "stdout",
     "output_type": "stream",
     "text": [
      "9\n",
      "<class 'int'>\n"
     ]
    }
   ],
   "source": [
    "print(a1)\n",
    "print(type(a1))"
   ]
  },
  {
   "cell_type": "markdown",
   "metadata": {},
   "source": [
    "If we use a floating point number input to a pre-declared integer-input shall there be any error message? \n",
    "Of course, as the input have to be an integer as declared, we can't use any non-integer data type here. "
   ]
  },
  {
   "cell_type": "code",
   "execution_count": 7,
   "metadata": {},
   "outputs": [
    {
     "name": "stdout",
     "output_type": "stream",
     "text": [
      "Enter a integer number: 2.5\n"
     ]
    },
    {
     "ename": "ValueError",
     "evalue": "invalid literal for int() with base 10: '2.5'",
     "output_type": "error",
     "traceback": [
      "\u001b[1;31m---------------------------------------------------------------------------\u001b[0m",
      "\u001b[1;31mValueError\u001b[0m                                Traceback (most recent call last)",
      "\u001b[1;32m<ipython-input-7-f048d16813b2>\u001b[0m in \u001b[0;36m<module>\u001b[1;34m\u001b[0m\n\u001b[1;32m----> 1\u001b[1;33m \u001b[0me\u001b[0m \u001b[1;33m=\u001b[0m \u001b[0mint\u001b[0m\u001b[1;33m(\u001b[0m\u001b[0minput\u001b[0m\u001b[1;33m(\u001b[0m\u001b[1;34m\"Enter a integer number: \"\u001b[0m\u001b[1;33m)\u001b[0m\u001b[1;33m)\u001b[0m\u001b[1;33m\u001b[0m\u001b[1;33m\u001b[0m\u001b[0m\n\u001b[0m",
      "\u001b[1;31mValueError\u001b[0m: invalid literal for int() with base 10: '2.5'"
     ]
    }
   ],
   "source": [
    "e = int(input(\"Enter a integer number: \"))"
   ]
  },
  {
   "cell_type": "code",
   "execution_count": 8,
   "metadata": {},
   "outputs": [
    {
     "name": "stdout",
     "output_type": "stream",
     "text": [
      "Enter a float number: 2.6\n",
      "2.6\n"
     ]
    }
   ],
   "source": [
    "a2 = float(input(\"Enter a float number: \")) # For float input\n",
    "print(a2)"
   ]
  },
  {
   "cell_type": "code",
   "execution_count": 9,
   "metadata": {},
   "outputs": [
    {
     "name": "stdout",
     "output_type": "stream",
     "text": [
      "Enter a string : Python is very easy!\n",
      "Python is very easy!\n"
     ]
    }
   ],
   "source": [
    "a3 = str(input(\"Enter a string : \")) # for string input, actually no need to declear it, as by default it python treates a  input() as string input . \n",
    "print(a3)"
   ]
  },
  {
   "cell_type": "markdown",
   "metadata": {},
   "source": [
    "Programmers can even use more than one `input()` function in a single line. The simplest way is given below."
   ]
  },
  {
   "cell_type": "code",
   "execution_count": 10,
   "metadata": {},
   "outputs": [
    {
     "name": "stdout",
     "output_type": "stream",
     "text": [
      "Name = FearlessPython\n",
      "Age = 1\n",
      "Weight = 2.5\n"
     ]
    }
   ],
   "source": [
    "name, age, wt = input(\"Name = \"), int(input(\"Age = \")), float(input(\"Weight = \"))"
   ]
  },
  {
   "cell_type": "code",
   "execution_count": 11,
   "metadata": {},
   "outputs": [
    {
     "name": "stdout",
     "output_type": "stream",
     "text": [
      "FearlessPython\n"
     ]
    }
   ],
   "source": [
    "print(name)"
   ]
  },
  {
   "cell_type": "code",
   "execution_count": 12,
   "metadata": {
    "scrolled": true
   },
   "outputs": [
    {
     "name": "stdout",
     "output_type": "stream",
     "text": [
      "1\n"
     ]
    }
   ],
   "source": [
    "print(age)"
   ]
  },
  {
   "cell_type": "code",
   "execution_count": 13,
   "metadata": {},
   "outputs": [
    {
     "name": "stdout",
     "output_type": "stream",
     "text": [
      "2.5\n"
     ]
    }
   ],
   "source": [
    "print(wt)"
   ]
  },
  {
   "cell_type": "markdown",
   "metadata": {},
   "source": [
    "We think it's all enough with the `input()` function, now moving onto the next topic **output**."
   ]
  },
  {
   "cell_type": "markdown",
   "metadata": {},
   "source": [
    "## The Python inbuilt `print()` function"
   ]
  },
  {
   "cell_type": "code",
   "execution_count": 14,
   "metadata": {},
   "outputs": [
    {
     "name": "stdout",
     "output_type": "stream",
     "text": [
      "We are always with you .\n"
     ]
    }
   ],
   "source": [
    "print(\"We are\", \"always\", \"with\", \"you\", \".\")"
   ]
  },
  {
   "cell_type": "markdown",
   "metadata": {},
   "source": [
    "At the beginning of this notebook as we have already discussed about the **OUTPUT**, let's see few examples.\n"
   ]
  },
  {
   "cell_type": "code",
   "execution_count": 15,
   "metadata": {},
   "outputs": [
    {
     "name": "stdout",
     "output_type": "stream",
     "text": [
      "Hey! how are you? \n"
     ]
    }
   ],
   "source": [
    "print(\"Hey! how are you? \")"
   ]
  },
  {
   "cell_type": "code",
   "execution_count": 16,
   "metadata": {},
   "outputs": [
    {
     "name": "stdout",
     "output_type": "stream",
     "text": [
      "The value of 5 + 4 is 9\n"
     ]
    }
   ],
   "source": [
    "c=5; d=4\n",
    "print(\"The value of\", c, \"+\", d, \"is\", c+d) \n",
    "# here we print 5+4 = 9 carefully go through the quotation (\"\") marks and the (,)comma"
   ]
  },
  {
   "cell_type": "markdown",
   "metadata": {},
   "source": [
    "*Let us go in depth!!*"
   ]
  },
  {
   "cell_type": "code",
   "execution_count": 17,
   "metadata": {},
   "outputs": [
    {
     "name": "stdout",
     "output_type": "stream",
     "text": [
      " What is your name ? \n",
      " My name is FearlessPython . \n"
     ]
    }
   ],
   "source": [
    "print(\" What is your name ? \" )\n",
    "print(\" My name is FearlessPython . \")"
   ]
  },
  {
   "cell_type": "code",
   "execution_count": 18,
   "metadata": {},
   "outputs": [
    {
     "name": "stdout",
     "output_type": "stream",
     "text": [
      " What is your name ?  My name is FearlessPython . \n"
     ]
    }
   ],
   "source": [
    "print(\" What is your name ? \" ,end = '')\n",
    "print(\" My name is FearlessPython . \")"
   ]
  },
  {
   "cell_type": "code",
   "execution_count": 19,
   "metadata": {},
   "outputs": [
    {
     "name": "stdout",
     "output_type": "stream",
     "text": [
      " What is your name ? ~~~ My name is FearlessPython . \n"
     ]
    }
   ],
   "source": [
    "print(\" What is your name ? \" ,end = '~~~')\n",
    "print(\" My name is FearlessPython . \")"
   ]
  },
  {
   "cell_type": "code",
   "execution_count": 20,
   "metadata": {},
   "outputs": [
    {
     "name": "stdout",
     "output_type": "stream",
     "text": [
      " What is your name ? \n",
      " My name is FearlessPython . \n"
     ]
    }
   ],
   "source": [
    "print(\" What is your name ? \" , end = \"\\n\")\n",
    "print(\" My name is FearlessPython . \")"
   ]
  },
  {
   "cell_type": "markdown",
   "metadata": {},
   "source": [
    "See, in the previous example there was no `end` given in the `print()` function. But in further example we use it as `end = ''` . Actually, it is optional. If omitted, then, default is `\"\\n\"` (i.e., next printing will be in a new line)."
   ]
  },
  {
   "cell_type": "code",
   "execution_count": 21,
   "metadata": {},
   "outputs": [
    {
     "name": "stdout",
     "output_type": "stream",
     "text": [
      "Fearless Python\n"
     ]
    }
   ],
   "source": [
    "print('Fearless', 'Python', sep = ' ')"
   ]
  },
  {
   "cell_type": "code",
   "execution_count": 22,
   "metadata": {},
   "outputs": [
    {
     "name": "stdout",
     "output_type": "stream",
     "text": [
      "Fearless-Python\n"
     ]
    }
   ],
   "source": [
    "print('Fearless', 'Python', sep = '-')"
   ]
  },
  {
   "cell_type": "code",
   "execution_count": 23,
   "metadata": {},
   "outputs": [
    {
     "name": "stdout",
     "output_type": "stream",
     "text": [
      "Fearless***Python\n"
     ]
    }
   ],
   "source": [
    "print('Fearless', 'Python', sep = '***')"
   ]
  },
  {
   "cell_type": "markdown",
   "metadata": {},
   "source": [
    " *syntax* : \n",
    " ```Python\n",
    " print(var1, var2, ..., sep = 'str1', end = 'str2', file = object, flush = boolean)\n",
    " ```"
   ]
  },
  {
   "cell_type": "markdown",
   "metadata": {},
   "source": [
    "The meaning of all these arguments inside the `print()` are given below . \n",
    "\n",
    "*  `var1, var2, ...`: *variables* or *string/integer/float/boolean* to be printed. If omitted then by default a line break/empty line will be printed.\n",
    "\n",
    "*  `sep`: different elements are separated by a given string (`str1`). If omitted then default is white-space (`' '`).\n",
    "\n",
    "*  `end`: a given string (`str2`) will be printed at the end. If omitted, default is (`\"\\n\"`). \n",
    "\n",
    "*  `file`: an object with `write()` method. If omitted, then output will be written on standard oputput.\n",
    "\n",
    "* `flush`: if `True`, the system is forcibly flushed. It is optional, if omitted, by default it is `False`."
   ]
  },
  {
   "cell_type": "markdown",
   "metadata": {},
   "source": [
    "Better option is you can go through `help(print)` in your Python shell. "
   ]
  },
  {
   "cell_type": "markdown",
   "metadata": {},
   "source": [
    "Now we will learn about **Printing With Style**."
   ]
  },
  {
   "cell_type": "markdown",
   "metadata": {},
   "source": [
    "### Python string formatting"
   ]
  },
  {
   "cell_type": "markdown",
   "metadata": {},
   "source": [
    "Output values with any data type can be represented in more comprehensive way, so that the appearance of overall output is more self explanatory towards the user. This can be done by the proper formatting the output data. Formatting in python is performed in two ways - **`%` - specification** or by **`format()` function**."
   ]
  },
  {
   "cell_type": "code",
   "execution_count": 24,
   "metadata": {},
   "outputs": [
    {
     "name": "stdout",
     "output_type": "stream",
     "text": [
      "The value of pi is 3.141593\n",
      "The value of pi is 3.141593\n"
     ]
    }
   ],
   "source": [
    "a = 3.1415926\n",
    "print(\"The value of pi is %.6f\" %a)   # here we use % - specificattion\n",
    "print(\"The value of pi is {:.6f}\".format(a))   # here we use format()\n",
    "\n",
    "# Note that we are printing upto only 6 decimal place with rounding-off (using .6f)"
   ]
  },
  {
   "cell_type": "markdown",
   "metadata": {},
   "source": [
    "Is there any problem ? Don't worry! It will be easy to you."
   ]
  },
  {
   "cell_type": "markdown",
   "metadata": {},
   "source": [
    "###### `%` must be used integrated with print statement . Let us denote `%y` as the specification, where, y can take the following values\n",
    "\n",
    "*  **s** (for *string*), \n",
    "*  **d** or **i** (for *integer*),\n",
    "*  **f** (for *floating point number*),\n",
    "*  **o** (for *octal number*),\n",
    "*  **x** (for *hexagonal number*),\n",
    "*  **e** (for *exponential number*), \n",
    "*  **g** (for shorter version of `% f` and `% e`) and many more."
   ]
  },
  {
   "cell_type": "code",
   "execution_count": 25,
   "metadata": {},
   "outputs": [
    {
     "name": "stdout",
     "output_type": "stream",
     "text": [
      "The Hardy-Ramanujan number: 1729\n"
     ]
    }
   ],
   "source": [
    "number = 1729\n",
    "print (\"The Hardy-Ramanujan number: %d\" % number)"
   ]
  },
  {
   "cell_type": "markdown",
   "metadata": {},
   "source": [
    "You can use more than one `%`-operator to format a given set of variables, enclosed in a *tuple*, following the operator. A very simple example is as follows:"
   ]
  },
  {
   "cell_type": "code",
   "execution_count": 26,
   "metadata": {},
   "outputs": [
    {
     "name": "stdout",
     "output_type": "stream",
     "text": [
      "What is your name?\n",
      "This is Albert Einstein.\n"
     ]
    }
   ],
   "source": [
    "name = \"Albert Einstein\"\n",
    "print(\"What is your name?\")\n",
    "print(\"This is %s.\" % name)"
   ]
  },
  {
   "cell_type": "code",
   "execution_count": 27,
   "metadata": {},
   "outputs": [
    {
     "data": {
      "text/plain": [
       "'3 is greater than 2.999'"
      ]
     },
     "execution_count": 27,
     "metadata": {},
     "output_type": "execute_result"
    }
   ],
   "source": [
    "\"%i is greater than %.3f\" % (3, 2.999)"
   ]
  },
  {
   "cell_type": "code",
   "execution_count": 28,
   "metadata": {},
   "outputs": [
    {
     "name": "stdout",
     "output_type": "stream",
     "text": [
      "The value of Euler's number is: 2.72\n"
     ]
    }
   ],
   "source": [
    "e = 2.71828\n",
    "print(\"The value of Euler's number is: %.2f\" % e) \n",
    "# here .2 - before f signifies it will print the approximated value of 'e' upto 2 decimal places . "
   ]
  },
  {
   "cell_type": "code",
   "execution_count": 29,
   "metadata": {},
   "outputs": [
    {
     "name": "stdout",
     "output_type": "stream",
     "text": [
      "The approximated value is : 36.59593\n"
     ]
    }
   ],
   "source": [
    "print(\"The approximated value is : %.5f\" % 36.59592649 )\n",
    "# Rounding-off to 5 decimal places"
   ]
  },
  {
   "cell_type": "code",
   "execution_count": 30,
   "metadata": {},
   "outputs": [
    {
     "name": "stdout",
     "output_type": "stream",
     "text": [
      "Sir Isaac Newton              discovered gravity\n"
     ]
    }
   ],
   "source": [
    "name = \"Isaac Newton\"\n",
    "print(\"Sir %-25s discovered gravity\" % name )\n",
    "# including white-space/padding after the placeholder (Isaac Newton)"
   ]
  },
  {
   "cell_type": "code",
   "execution_count": 31,
   "metadata": {},
   "outputs": [
    {
     "name": "stdout",
     "output_type": "stream",
     "text": [
      "           Albert Einstein is a great scientist.\n"
     ]
    }
   ],
   "source": [
    "name = \"Albert Einstein\"\n",
    "print(\" %25s is a great scientist.\" % name)\n",
    "# including white-space/padding before the placeholder (Albert Einstein)"
   ]
  },
  {
   "cell_type": "markdown",
   "metadata": {},
   "source": [
    "As the value of **%25s** reserves 25 characters,with extra spacing on the left side of the placeholder, and a value of **%-25s** puts any extra space to the right of the placeholder. See the previous examples."
   ]
  },
  {
   "cell_type": "code",
   "execution_count": 32,
   "metadata": {},
   "outputs": [
    {
     "name": "stdout",
     "output_type": "stream",
     "text": [
      "The value of 56 in octal number is 70 \n",
      "The value of 56 in hexagonal number is 38 \n"
     ]
    }
   ],
   "source": [
    "num = 56\n",
    "print(\"The value of %d in octal number is %o \" % (num, num))\n",
    "print(\"The value of %d in hexagonal number is %x \" % (num, num))"
   ]
  },
  {
   "cell_type": "code",
   "execution_count": 33,
   "metadata": {},
   "outputs": [
    {
     "name": "stdout",
     "output_type": "stream",
     "text": [
      "2.789654e+00 \n"
     ]
    }
   ],
   "source": [
    "number = 2.789654123\n",
    "print(\"%e \" % number)"
   ]
  },
  {
   "cell_type": "code",
   "execution_count": 34,
   "metadata": {},
   "outputs": [
    {
     "name": "stdout",
     "output_type": "stream",
     "text": [
      "2020 is the year of pandemic due to global Covid-19.\n"
     ]
    }
   ],
   "source": [
    "year = 2020 ; virus = \"Covid-19\" ;\n",
    "print(\"%i is the year of pandemic due to global %s.\" % (year, virus))"
   ]
  },
  {
   "cell_type": "markdown",
   "metadata": {},
   "source": [
    "Another few important things are given follow :"
   ]
  },
  {
   "cell_type": "code",
   "execution_count": 35,
   "metadata": {},
   "outputs": [
    {
     "name": "stdout",
     "output_type": "stream",
     "text": [
      "Hello\b World\n"
     ]
    }
   ],
   "source": [
    "print(\"Hello\\b World\")    # Backspace, the attached character at left is removed."
   ]
  },
  {
   "cell_type": "code",
   "execution_count": 36,
   "metadata": {},
   "outputs": [
    {
     "name": "stdout",
     "output_type": "stream",
     "text": [
      "Hello\t World\n"
     ]
    }
   ],
   "source": [
    "print(\"Hello\\t World\")    # Create a horizontal tab at it's place."
   ]
  },
  {
   "cell_type": "markdown",
   "metadata": {},
   "source": [
    "###### Now come to the easiest part  `format()` function.\n",
    "\n",
    "*syntax*: \n",
    "```Python\n",
    "print(\".... {} .. {} .. {} ...\" .format(var1, var2, var3 ....))\n",
    "```\n",
    "\n",
    "alternative ways are:\n",
    "\n",
    "*syntax*: \n",
    "```Python\n",
    "print(\".... {0} .. {1} .. {2} ...\" .format(var1, var2, var3 ....))\n",
    "```\n",
    "\n",
    "*syntax*: \n",
    "```Python\n",
    "print(\".... {ky1} .. {ky2} .. {ky3} ...\" .format(ky1 = var1, ky2 = var2, .....))\n",
    "```"
   ]
  },
  {
   "cell_type": "code",
   "execution_count": 37,
   "metadata": {},
   "outputs": [
    {
     "name": "stdout",
     "output_type": "stream",
     "text": [
      "FearlessPython is very helpful.\n"
     ]
    }
   ],
   "source": [
    "print(\"{0}{2} is very {1}.\".format( \"Fearless\", \"helpful\", \"Python\"))"
   ]
  },
  {
   "cell_type": "code",
   "execution_count": 38,
   "metadata": {},
   "outputs": [
    {
     "name": "stdout",
     "output_type": "stream",
     "text": [
      "Do you know the name of Alan Turing?\n"
     ]
    }
   ],
   "source": [
    "print('Do you know the name of {}?' .format(\"Alan Turing\"))"
   ]
  },
  {
   "cell_type": "markdown",
   "metadata": {},
   "source": [
    "Previously I put an example actually it was of a **Truncating** (rounding off) decimal numbers example. "
   ]
  },
  {
   "cell_type": "code",
   "execution_count": 39,
   "metadata": {},
   "outputs": [
    {
     "name": "stdout",
     "output_type": "stream",
     "text": [
      "The value of pi is   3.141593\n"
     ]
    }
   ],
   "source": [
    "a = 3.1415926\n",
    "print (\"The value of pi is {:10.6f}\".format(a)) # here I use format()"
   ]
  },
  {
   "cell_type": "markdown",
   "metadata": {},
   "source": [
    "We think you are familiar with the `split()` function. See here, it will be rounding-off the number upto 6 decimal places, and 10 before the (`.`) is for 10 spaces. But this (`:`) will not work in `%` - specification."
   ]
  },
  {
   "cell_type": "markdown",
   "metadata": {},
   "source": [
    "#### The Python f-string\n",
    "From **Python 3.6** onwards, f-string is the most fantastic way to format strings. Their benefits are:\n",
    "* More Readable\n",
    "* Faster\n",
    "* To the point\n",
    "* Less chances of error\n",
    "\n",
    "Few examples are enough to understand this method.\n",
    "\n",
    "*(NOTE: This type of formatting won't work in versions prior to Python 3.6).*"
   ]
  },
  {
   "cell_type": "code",
   "execution_count": 40,
   "metadata": {},
   "outputs": [
    {
     "name": "stdout",
     "output_type": "stream",
     "text": [
      "Python was created by Guido van Rossum in 1990.\n"
     ]
    }
   ],
   "source": [
    "name = \"Python\"\n",
    "birth = \"1990\"\n",
    "inventor = \"Guido van Rossum\"\n",
    "\n",
    "print(f\"{name} was created by {inventor} in {birth}.\")"
   ]
  },
  {
   "cell_type": "markdown",
   "metadata": {},
   "source": [
    "Can something be more easier than this? You just have to include `f` before the string, so that Python understands that you are going to use the **f-string** type of formatting. You can also include `F` instead of `f`. But in most places, you are going to find `f`.\n",
    "\n",
    "Let us see one more classic example."
   ]
  },
  {
   "cell_type": "code",
   "execution_count": 41,
   "metadata": {},
   "outputs": [
    {
     "name": "stdout",
     "output_type": "stream",
     "text": [
      "What is your name?\n",
      "The name is Bond, James Bond.\n"
     ]
    }
   ],
   "source": [
    "first_name = \"James\"\n",
    "last_name = \"Bond\"\n",
    "\n",
    "print(\"What is your name?\")\n",
    "print(F\"The name is {last_name}, {first_name} {last_name}.\")"
   ]
  },
  {
   "cell_type": "markdown",
   "metadata": {},
   "source": [
    "Its all enough for INPUT and OUTPUT. Moving on to the next topic . for further details over formating \n",
    "check  ```help('FORMATTING')``` ."
   ]
  },
  {
   "cell_type": "code",
   "execution_count": 42,
   "metadata": {},
   "outputs": [
    {
     "name": "stdout",
     "output_type": "stream",
     "text": [
      "Format String Syntax\n",
      "********************\n",
      "\n",
      "The \"str.format()\" method and the \"Formatter\" class share the same\n",
      "syntax for format strings (although in the case of \"Formatter\",\n",
      "subclasses can define their own format string syntax).  The syntax is\n",
      "related to that of formatted string literals, but there are\n",
      "differences.\n",
      "\n",
      "Format strings contain “replacement fields” surrounded by curly braces\n",
      "\"{}\". Anything that is not contained in braces is considered literal\n",
      "text, which is copied unchanged to the output.  If you need to include\n",
      "a brace character in the literal text, it can be escaped by doubling:\n",
      "\"{{\" and \"}}\".\n",
      "\n",
      "The grammar for a replacement field is as follows:\n",
      "\n",
      "      replacement_field ::= \"{\" [field_name] [\"!\" conversion] [\":\" format_spec] \"}\"\n",
      "      field_name        ::= arg_name (\".\" attribute_name | \"[\" element_index \"]\")*\n",
      "      arg_name          ::= [identifier | digit+]\n",
      "      attribute_name    ::= identifier\n",
      "      element_index     ::= digit+ | index_string\n",
      "      index_string      ::= <any source character except \"]\"> +\n",
      "      conversion        ::= \"r\" | \"s\" | \"a\"\n",
      "      format_spec       ::= <described in the next section>\n",
      "\n",
      "In less formal terms, the replacement field can start with a\n",
      "*field_name* that specifies the object whose value is to be formatted\n",
      "and inserted into the output instead of the replacement field. The\n",
      "*field_name* is optionally followed by a  *conversion* field, which is\n",
      "preceded by an exclamation point \"'!'\", and a *format_spec*, which is\n",
      "preceded by a colon \"':'\".  These specify a non-default format for the\n",
      "replacement value.\n",
      "\n",
      "See also the Format Specification Mini-Language section.\n",
      "\n",
      "The *field_name* itself begins with an *arg_name* that is either a\n",
      "number or a keyword.  If it’s a number, it refers to a positional\n",
      "argument, and if it’s a keyword, it refers to a named keyword\n",
      "argument.  If the numerical arg_names in a format string are 0, 1, 2,\n",
      "… in sequence, they can all be omitted (not just some) and the numbers\n",
      "0, 1, 2, … will be automatically inserted in that order. Because\n",
      "*arg_name* is not quote-delimited, it is not possible to specify\n",
      "arbitrary dictionary keys (e.g., the strings \"'10'\" or \"':-]'\") within\n",
      "a format string. The *arg_name* can be followed by any number of index\n",
      "or attribute expressions. An expression of the form \"'.name'\" selects\n",
      "the named attribute using \"getattr()\", while an expression of the form\n",
      "\"'[index]'\" does an index lookup using \"__getitem__()\".\n",
      "\n",
      "Changed in version 3.1: The positional argument specifiers can be\n",
      "omitted for \"str.format()\", so \"'{} {}'.format(a, b)\" is equivalent to\n",
      "\"'{0} {1}'.format(a, b)\".\n",
      "\n",
      "Changed in version 3.4: The positional argument specifiers can be\n",
      "omitted for \"Formatter\".\n",
      "\n",
      "Some simple format string examples:\n",
      "\n",
      "   \"First, thou shalt count to {0}\"  # References first positional argument\n",
      "   \"Bring me a {}\"                   # Implicitly references the first positional argument\n",
      "   \"From {} to {}\"                   # Same as \"From {0} to {1}\"\n",
      "   \"My quest is {name}\"              # References keyword argument 'name'\n",
      "   \"Weight in tons {0.weight}\"       # 'weight' attribute of first positional arg\n",
      "   \"Units destroyed: {players[0]}\"   # First element of keyword argument 'players'.\n",
      "\n",
      "The *conversion* field causes a type coercion before formatting.\n",
      "Normally, the job of formatting a value is done by the \"__format__()\"\n",
      "method of the value itself.  However, in some cases it is desirable to\n",
      "force a type to be formatted as a string, overriding its own\n",
      "definition of formatting.  By converting the value to a string before\n",
      "calling \"__format__()\", the normal formatting logic is bypassed.\n",
      "\n",
      "Three conversion flags are currently supported: \"'!s'\" which calls\n",
      "\"str()\" on the value, \"'!r'\" which calls \"repr()\" and \"'!a'\" which\n",
      "calls \"ascii()\".\n",
      "\n",
      "Some examples:\n",
      "\n",
      "   \"Harold's a clever {0!s}\"        # Calls str() on the argument first\n",
      "   \"Bring out the holy {name!r}\"    # Calls repr() on the argument first\n",
      "   \"More {!a}\"                      # Calls ascii() on the argument first\n",
      "\n",
      "The *format_spec* field contains a specification of how the value\n",
      "should be presented, including such details as field width, alignment,\n",
      "padding, decimal precision and so on.  Each value type can define its\n",
      "own “formatting mini-language” or interpretation of the *format_spec*.\n",
      "\n",
      "Most built-in types support a common formatting mini-language, which\n",
      "is described in the next section.\n",
      "\n",
      "A *format_spec* field can also include nested replacement fields\n",
      "within it. These nested replacement fields may contain a field name,\n",
      "conversion flag and format specification, but deeper nesting is not\n",
      "allowed.  The replacement fields within the format_spec are\n",
      "substituted before the *format_spec* string is interpreted. This\n",
      "allows the formatting of a value to be dynamically specified.\n",
      "\n",
      "See the Format examples section for some examples.\n",
      "\n",
      "\n",
      "Format Specification Mini-Language\n",
      "==================================\n",
      "\n",
      "“Format specifications” are used within replacement fields contained\n",
      "within a format string to define how individual values are presented\n",
      "(see Format String Syntax and Formatted string literals). They can\n",
      "also be passed directly to the built-in \"format()\" function.  Each\n",
      "formattable type may define how the format specification is to be\n",
      "interpreted.\n",
      "\n",
      "Most built-in types implement the following options for format\n",
      "specifications, although some of the formatting options are only\n",
      "supported by the numeric types.\n",
      "\n",
      "A general convention is that an empty format string (\"\"\"\") produces\n",
      "the same result as if you had called \"str()\" on the value. A non-empty\n",
      "format string typically modifies the result.\n",
      "\n",
      "The general form of a *standard format specifier* is:\n",
      "\n",
      "   format_spec     ::= [[fill]align][sign][#][0][width][grouping_option][.precision][type]\n",
      "   fill            ::= <any character>\n",
      "   align           ::= \"<\" | \">\" | \"=\" | \"^\"\n",
      "   sign            ::= \"+\" | \"-\" | \" \"\n",
      "   width           ::= digit+\n",
      "   grouping_option ::= \"_\" | \",\"\n",
      "   precision       ::= digit+\n",
      "   type            ::= \"b\" | \"c\" | \"d\" | \"e\" | \"E\" | \"f\" | \"F\" | \"g\" | \"G\" | \"n\" | \"o\" | \"s\" | \"x\" | \"X\" | \"%\"\n",
      "\n",
      "If a valid *align* value is specified, it can be preceded by a *fill*\n",
      "character that can be any character and defaults to a space if\n",
      "omitted. It is not possible to use a literal curly brace (“\"{\"” or\n",
      "“\"}\"”) as the *fill* character in a formatted string literal or when\n",
      "using the \"str.format()\" method.  However, it is possible to insert a\n",
      "curly brace with a nested replacement field.  This limitation doesn’t\n",
      "affect the \"format()\" function.\n",
      "\n",
      "The meaning of the various alignment options is as follows:\n",
      "\n",
      "   +-----------+------------------------------------------------------------+\n",
      "   | Option    | Meaning                                                    |\n",
      "   +===========+============================================================+\n",
      "   | \"'<'\"     | Forces the field to be left-aligned within the available   |\n",
      "   |           | space (this is the default for most objects).              |\n",
      "   +-----------+------------------------------------------------------------+\n",
      "   | \"'>'\"     | Forces the field to be right-aligned within the available  |\n",
      "   |           | space (this is the default for numbers).                   |\n",
      "   +-----------+------------------------------------------------------------+\n",
      "   | \"'='\"     | Forces the padding to be placed after the sign (if any)    |\n",
      "   |           | but before the digits.  This is used for printing fields   |\n",
      "   |           | in the form ‘+000000120’. This alignment option is only    |\n",
      "   |           | valid for numeric types.  It becomes the default when ‘0’  |\n",
      "   |           | immediately precedes the field width.                      |\n",
      "   +-----------+------------------------------------------------------------+\n",
      "   | \"'^'\"     | Forces the field to be centered within the available       |\n",
      "   |           | space.                                                     |\n",
      "   +-----------+------------------------------------------------------------+\n",
      "\n",
      "Note that unless a minimum field width is defined, the field width\n",
      "will always be the same size as the data to fill it, so that the\n",
      "alignment option has no meaning in this case.\n",
      "\n",
      "The *sign* option is only valid for number types, and can be one of\n",
      "the following:\n",
      "\n",
      "   +-----------+------------------------------------------------------------+\n",
      "   | Option    | Meaning                                                    |\n",
      "   +===========+============================================================+\n",
      "   | \"'+'\"     | indicates that a sign should be used for both positive as  |\n",
      "   |           | well as negative numbers.                                  |\n",
      "   +-----------+------------------------------------------------------------+\n",
      "   | \"'-'\"     | indicates that a sign should be used only for negative     |\n",
      "   |           | numbers (this is the default behavior).                    |\n",
      "   +-----------+------------------------------------------------------------+\n",
      "   | space     | indicates that a leading space should be used on positive  |\n",
      "   |           | numbers, and a minus sign on negative numbers.             |\n",
      "   +-----------+------------------------------------------------------------+\n",
      "\n",
      "The \"'#'\" option causes the “alternate form” to be used for the\n",
      "conversion.  The alternate form is defined differently for different\n",
      "types.  This option is only valid for integer, float, complex and\n",
      "Decimal types. For integers, when binary, octal, or hexadecimal output\n",
      "is used, this option adds the prefix respective \"'0b'\", \"'0o'\", or\n",
      "\"'0x'\" to the output value. For floats, complex and Decimal the\n",
      "alternate form causes the result of the conversion to always contain a\n",
      "decimal-point character, even if no digits follow it. Normally, a\n",
      "decimal-point character appears in the result of these conversions\n",
      "only if a digit follows it. In addition, for \"'g'\" and \"'G'\"\n",
      "conversions, trailing zeros are not removed from the result.\n",
      "\n",
      "The \"','\" option signals the use of a comma for a thousands separator.\n",
      "For a locale aware separator, use the \"'n'\" integer presentation type\n",
      "instead.\n",
      "\n",
      "Changed in version 3.1: Added the \"','\" option (see also **PEP 378**).\n",
      "\n",
      "The \"'_'\" option signals the use of an underscore for a thousands\n",
      "separator for floating point presentation types and for integer\n",
      "presentation type \"'d'\".  For integer presentation types \"'b'\", \"'o'\",\n",
      "\"'x'\", and \"'X'\", underscores will be inserted every 4 digits.  For\n",
      "other presentation types, specifying this option is an error.\n",
      "\n",
      "Changed in version 3.6: Added the \"'_'\" option (see also **PEP 515**).\n",
      "\n",
      "*width* is a decimal integer defining the minimum field width.  If not\n",
      "specified, then the field width will be determined by the content.\n",
      "\n",
      "When no explicit alignment is given, preceding the *width* field by a\n",
      "zero (\"'0'\") character enables sign-aware zero-padding for numeric\n",
      "types.  This is equivalent to a *fill* character of \"'0'\" with an\n",
      "*alignment* type of \"'='\".\n",
      "\n",
      "The *precision* is a decimal number indicating how many digits should\n",
      "be displayed after the decimal point for a floating point value\n",
      "formatted with \"'f'\" and \"'F'\", or before and after the decimal point\n",
      "for a floating point value formatted with \"'g'\" or \"'G'\".  For non-\n",
      "number types the field indicates the maximum field size - in other\n",
      "words, how many characters will be used from the field content. The\n",
      "*precision* is not allowed for integer values.\n",
      "\n",
      "Finally, the *type* determines how the data should be presented.\n",
      "\n",
      "The available string presentation types are:\n",
      "\n",
      "   +-----------+------------------------------------------------------------+\n",
      "   | Type      | Meaning                                                    |\n",
      "   +===========+============================================================+\n",
      "   | \"'s'\"     | String format. This is the default type for strings and    |\n",
      "   |           | may be omitted.                                            |\n",
      "   +-----------+------------------------------------------------------------+\n",
      "   | None      | The same as \"'s'\".                                         |\n",
      "   +-----------+------------------------------------------------------------+\n",
      "\n",
      "The available integer presentation types are:\n",
      "\n",
      "   +-----------+------------------------------------------------------------+\n",
      "   | Type      | Meaning                                                    |\n",
      "   +===========+============================================================+\n",
      "   | \"'b'\"     | Binary format. Outputs the number in base 2.               |\n",
      "   +-----------+------------------------------------------------------------+\n",
      "   | \"'c'\"     | Character. Converts the integer to the corresponding       |\n",
      "   |           | unicode character before printing.                         |\n",
      "   +-----------+------------------------------------------------------------+\n",
      "   | \"'d'\"     | Decimal Integer. Outputs the number in base 10.            |\n",
      "   +-----------+------------------------------------------------------------+\n",
      "   | \"'o'\"     | Octal format. Outputs the number in base 8.                |\n",
      "   +-----------+------------------------------------------------------------+\n",
      "   | \"'x'\"     | Hex format. Outputs the number in base 16, using lower-    |\n",
      "   |           | case letters for the digits above 9.                       |\n",
      "   +-----------+------------------------------------------------------------+\n",
      "   | \"'X'\"     | Hex format. Outputs the number in base 16, using upper-    |\n",
      "   |           | case letters for the digits above 9.                       |\n",
      "   +-----------+------------------------------------------------------------+\n",
      "   | \"'n'\"     | Number. This is the same as \"'d'\", except that it uses the |\n",
      "   |           | current locale setting to insert the appropriate number    |\n",
      "   |           | separator characters.                                      |\n",
      "   +-----------+------------------------------------------------------------+\n",
      "   | None      | The same as \"'d'\".                                         |\n",
      "   +-----------+------------------------------------------------------------+\n",
      "\n",
      "In addition to the above presentation types, integers can be formatted\n",
      "with the floating point presentation types listed below (except \"'n'\"\n",
      "and \"None\"). When doing so, \"float()\" is used to convert the integer\n",
      "to a floating point number before formatting.\n",
      "\n",
      "The available presentation types for floating point and decimal values\n",
      "are:\n",
      "\n",
      "   +-----------+------------------------------------------------------------+\n",
      "   | Type      | Meaning                                                    |\n",
      "   +===========+============================================================+\n",
      "   | \"'e'\"     | Exponent notation. Prints the number in scientific         |\n",
      "   |           | notation using the letter ‘e’ to indicate the exponent.    |\n",
      "   |           | The default precision is \"6\".                              |\n",
      "   +-----------+------------------------------------------------------------+\n",
      "   | \"'E'\"     | Exponent notation. Same as \"'e'\" except it uses an upper   |\n",
      "   |           | case ‘E’ as the separator character.                       |\n",
      "   +-----------+------------------------------------------------------------+\n",
      "   | \"'f'\"     | Fixed-point notation. Displays the number as a fixed-point |\n",
      "   |           | number. The default precision is \"6\".                      |\n",
      "   +-----------+------------------------------------------------------------+\n",
      "   | \"'F'\"     | Fixed-point notation. Same as \"'f'\", but converts \"nan\" to |\n",
      "   |           | \"NAN\" and \"inf\" to \"INF\".                                  |\n",
      "   +-----------+------------------------------------------------------------+\n",
      "   | \"'g'\"     | General format.  For a given precision \"p >= 1\", this      |\n",
      "   |           | rounds the number to \"p\" significant digits and then       |\n",
      "   |           | formats the result in either fixed-point format or in      |\n",
      "   |           | scientific notation, depending on its magnitude.  The      |\n",
      "   |           | precise rules are as follows: suppose that the result      |\n",
      "   |           | formatted with presentation type \"'e'\" and precision \"p-1\" |\n",
      "   |           | would have exponent \"exp\".  Then if \"-4 <= exp < p\", the   |\n",
      "   |           | number is formatted with presentation type \"'f'\" and       |\n",
      "   |           | precision \"p-1-exp\".  Otherwise, the number is formatted   |\n",
      "   |           | with presentation type \"'e'\" and precision \"p-1\". In both  |\n",
      "   |           | cases insignificant trailing zeros are removed from the    |\n",
      "   |           | significand, and the decimal point is also removed if      |\n",
      "   |           | there are no remaining digits following it.  Positive and  |\n",
      "   |           | negative infinity, positive and negative zero, and nans,   |\n",
      "   |           | are formatted as \"inf\", \"-inf\", \"0\", \"-0\" and \"nan\"        |\n",
      "   |           | respectively, regardless of the precision.  A precision of |\n",
      "   |           | \"0\" is treated as equivalent to a precision of \"1\". The    |\n",
      "   |           | default precision is \"6\".                                  |\n",
      "   +-----------+------------------------------------------------------------+\n",
      "   | \"'G'\"     | General format. Same as \"'g'\" except switches to \"'E'\" if  |\n",
      "   |           | the number gets too large. The representations of infinity |\n",
      "   |           | and NaN are uppercased, too.                               |\n",
      "   +-----------+------------------------------------------------------------+\n",
      "   | \"'n'\"     | Number. This is the same as \"'g'\", except that it uses the |\n",
      "   |           | current locale setting to insert the appropriate number    |\n",
      "   |           | separator characters.                                      |\n",
      "   +-----------+------------------------------------------------------------+\n",
      "   | \"'%'\"     | Percentage. Multiplies the number by 100 and displays in   |\n",
      "   |           | fixed (\"'f'\") format, followed by a percent sign.          |\n",
      "   +-----------+------------------------------------------------------------+\n",
      "   | None      | Similar to \"'g'\", except that fixed-point notation, when   |\n",
      "   |           | used, has at least one digit past the decimal point. The   |\n",
      "   |           | default precision is as high as needed to represent the    |\n",
      "   |           | particular value. The overall effect is to match the       |\n",
      "   |           | output of \"str()\" as altered by the other format           |\n",
      "   |           | modifiers.                                                 |\n",
      "   +-----------+------------------------------------------------------------+\n",
      "\n",
      "\n",
      "Format examples\n",
      "===============\n",
      "\n",
      "This section contains examples of the \"str.format()\" syntax and\n",
      "comparison with the old \"%\"-formatting.\n",
      "\n",
      "In most of the cases the syntax is similar to the old \"%\"-formatting,\n",
      "with the addition of the \"{}\" and with \":\" used instead of \"%\". For\n",
      "example, \"'%03.2f'\" can be translated to \"'{:03.2f}'\".\n",
      "\n",
      "The new format syntax also supports new and different options, shown\n",
      "in the following examples.\n",
      "\n",
      "Accessing arguments by position:\n",
      "\n",
      "   >>> '{0}, {1}, {2}'.format('a', 'b', 'c')\n",
      "   'a, b, c'\n",
      "   >>> '{}, {}, {}'.format('a', 'b', 'c')  # 3.1+ only\n",
      "   'a, b, c'\n",
      "   >>> '{2}, {1}, {0}'.format('a', 'b', 'c')\n",
      "   'c, b, a'\n",
      "   >>> '{2}, {1}, {0}'.format(*'abc')      # unpacking argument sequence\n",
      "   'c, b, a'\n",
      "   >>> '{0}{1}{0}'.format('abra', 'cad')   # arguments' indices can be repeated\n",
      "   'abracadabra'\n",
      "\n",
      "Accessing arguments by name:\n",
      "\n",
      "   >>> 'Coordinates: {latitude}, {longitude}'.format(latitude='37.24N', longitude='-115.81W')\n",
      "   'Coordinates: 37.24N, -115.81W'\n",
      "   >>> coord = {'latitude': '37.24N', 'longitude': '-115.81W'}\n",
      "   >>> 'Coordinates: {latitude}, {longitude}'.format(**coord)\n",
      "   'Coordinates: 37.24N, -115.81W'\n",
      "\n",
      "Accessing arguments’ attributes:\n",
      "\n",
      "   >>> c = 3-5j\n",
      "   >>> ('The complex number {0} is formed from the real part {0.real} '\n",
      "   ...  'and the imaginary part {0.imag}.').format(c)\n",
      "   'The complex number (3-5j) is formed from the real part 3.0 and the imaginary part -5.0.'\n",
      "   >>> class Point:\n",
      "   ...     def __init__(self, x, y):\n",
      "   ...         self.x, self.y = x, y\n",
      "   ...     def __str__(self):\n",
      "   ...         return 'Point({self.x}, {self.y})'.format(self=self)\n",
      "   ...\n",
      "   >>> str(Point(4, 2))\n",
      "   'Point(4, 2)'\n",
      "\n",
      "Accessing arguments’ items:\n",
      "\n",
      "   >>> coord = (3, 5)\n",
      "   >>> 'X: {0[0]};  Y: {0[1]}'.format(coord)\n",
      "   'X: 3;  Y: 5'\n",
      "\n",
      "Replacing \"%s\" and \"%r\":\n",
      "\n",
      "   >>> \"repr() shows quotes: {!r}; str() doesn't: {!s}\".format('test1', 'test2')\n",
      "   \"repr() shows quotes: 'test1'; str() doesn't: test2\"\n",
      "\n",
      "Aligning the text and specifying a width:\n",
      "\n",
      "   >>> '{:<30}'.format('left aligned')\n",
      "   'left aligned                  '\n",
      "   >>> '{:>30}'.format('right aligned')\n",
      "   '                 right aligned'\n",
      "   >>> '{:^30}'.format('centered')\n",
      "   '           centered           '\n",
      "   >>> '{:*^30}'.format('centered')  # use '*' as a fill char\n",
      "   '***********centered***********'\n",
      "\n",
      "Replacing \"%+f\", \"%-f\", and \"% f\" and specifying a sign:\n",
      "\n",
      "   >>> '{:+f}; {:+f}'.format(3.14, -3.14)  # show it always\n",
      "   '+3.140000; -3.140000'\n",
      "   >>> '{: f}; {: f}'.format(3.14, -3.14)  # show a space for positive numbers\n",
      "   ' 3.140000; -3.140000'\n",
      "   >>> '{:-f}; {:-f}'.format(3.14, -3.14)  # show only the minus -- same as '{:f}; {:f}'\n",
      "   '3.140000; -3.140000'\n",
      "\n",
      "Replacing \"%x\" and \"%o\" and converting the value to different bases:\n",
      "\n",
      "   >>> # format also supports binary numbers\n",
      "   >>> \"int: {0:d};  hex: {0:x};  oct: {0:o};  bin: {0:b}\".format(42)\n",
      "   'int: 42;  hex: 2a;  oct: 52;  bin: 101010'\n",
      "   >>> # with 0x, 0o, or 0b as prefix:\n",
      "   >>> \"int: {0:d};  hex: {0:#x};  oct: {0:#o};  bin: {0:#b}\".format(42)\n",
      "   'int: 42;  hex: 0x2a;  oct: 0o52;  bin: 0b101010'\n",
      "\n",
      "Using the comma as a thousands separator:\n",
      "\n",
      "   >>> '{:,}'.format(1234567890)\n",
      "   '1,234,567,890'\n",
      "\n",
      "Expressing a percentage:\n",
      "\n",
      "   >>> points = 19\n",
      "   >>> total = 22\n",
      "   >>> 'Correct answers: {:.2%}'.format(points/total)\n",
      "   'Correct answers: 86.36%'\n",
      "\n",
      "Using type-specific formatting:\n",
      "\n",
      "   >>> import datetime\n",
      "   >>> d = datetime.datetime(2010, 7, 4, 12, 15, 58)\n",
      "   >>> '{:%Y-%m-%d %H:%M:%S}'.format(d)\n",
      "   '2010-07-04 12:15:58'\n",
      "\n",
      "Nesting arguments and more complex examples:\n",
      "\n",
      "   >>> for align, text in zip('<^>', ['left', 'center', 'right']):\n",
      "   ...     '{0:{fill}{align}16}'.format(text, fill=align, align=align)\n",
      "   ...\n",
      "   'left<<<<<<<<<<<<'\n",
      "   '^^^^^center^^^^^'\n",
      "   '>>>>>>>>>>>right'\n",
      "   >>>\n",
      "   >>> octets = [192, 168, 0, 1]\n",
      "   >>> '{:02X}{:02X}{:02X}{:02X}'.format(*octets)\n",
      "   'C0A80001'\n",
      "   >>> int(_, 16)\n",
      "   3232235521\n",
      "   >>>\n",
      "   >>> width = 5\n",
      "   >>> for num in range(5,12): \n",
      "   ...     for base in 'dXob':\n",
      "   ...         print('{0:{width}{base}}'.format(num, base=base, width=width), end=' ')\n",
      "   ...     print()\n",
      "   ...\n",
      "       5     5     5   101\n",
      "       6     6     6   110\n",
      "       7     7     7   111\n",
      "       8     8    10  1000\n",
      "       9     9    11  1001\n",
      "      10     A    12  1010\n",
      "      11     B    13  1011\n",
      "\n",
      "Related help topics: OPERATORS\n",
      "\n"
     ]
    }
   ],
   "source": [
    "help('FORMATTING')"
   ]
  }
 ],
 "metadata": {
  "kernelspec": {
   "display_name": "Python 3",
   "language": "python",
   "name": "python3"
  },
  "language_info": {
   "codemirror_mode": {
    "name": "ipython",
    "version": 3
   },
   "file_extension": ".py",
   "mimetype": "text/x-python",
   "name": "python",
   "nbconvert_exporter": "python",
   "pygments_lexer": "ipython3",
   "version": "3.7.3"
  }
 },
 "nbformat": 4,
 "nbformat_minor": 4
}
