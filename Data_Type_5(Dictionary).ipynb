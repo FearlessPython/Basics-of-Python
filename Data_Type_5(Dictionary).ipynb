{
 "cells": [
  {
   "cell_type": "markdown",
   "metadata": {},
   "source": [
    "# Dictionary"
   ]
  },
  {
   "cell_type": "markdown",
   "metadata": {},
   "source": [
    "**Dictionary** is a built-in python data-type, in which data can be stored in *key-value* pairs. A dictionary can be defined very easily. You can assign any variable to a dictionary by a particular syntax, using curly braces and colons."
   ]
  },
  {
   "cell_type": "code",
   "execution_count": 1,
   "metadata": {},
   "outputs": [],
   "source": [
    "a = {'key1': 'value1', 'key2': 'value2', 'key3': 'value3'}"
   ]
  },
  {
   "cell_type": "markdown",
   "metadata": {},
   "source": [
    "The dictionary is now created and stored in the variable **a**. You can now print the dictionary by using `print(a)`."
   ]
  },
  {
   "cell_type": "code",
   "execution_count": 2,
   "metadata": {},
   "outputs": [
    {
     "name": "stdout",
     "output_type": "stream",
     "text": [
      "{'key1': 'value1', 'key2': 'value2', 'key3': 'value3'}\n"
     ]
    }
   ],
   "source": [
    "print(a)"
   ]
  },
  {
   "cell_type": "markdown",
   "metadata": {},
   "source": [
    "Let's now check what python calls a dictionary by using the `type()` function."
   ]
  },
  {
   "cell_type": "code",
   "execution_count": 3,
   "metadata": {},
   "outputs": [
    {
     "name": "stdout",
     "output_type": "stream",
     "text": [
      "<class 'dict'>\n"
     ]
    }
   ],
   "source": [
    "print(type(a)) # prints the type of data of a"
   ]
  },
  {
   "cell_type": "markdown",
   "metadata": {},
   "source": [
    "Python identifies a *dictionary* as `dict`. So `dict` is a reserved keyword in Python like `int`, `str`, `list` etc. \n",
    "\n",
    "Now, think about the *length* of the dictionary **a**. What is its length? 6? \n",
    "\n",
    "No. In dictionary, the data is saved in pairs. There are 3 pairs in **a**. So the *length* will be 3, not 6. Let's check and verify that using the in-built python function `len()`."
   ]
  },
  {
   "cell_type": "code",
   "execution_count": 4,
   "metadata": {},
   "outputs": [
    {
     "name": "stdout",
     "output_type": "stream",
     "text": [
      "3\n"
     ]
    }
   ],
   "source": [
    "print(len(a))"
   ]
  },
  {
   "cell_type": "markdown",
   "metadata": {},
   "source": [
    "You can even define an empty dictionary, like an empty *string* `''`, empty *list* `[]` etc. Let us define an empty dictionary and check its *length*."
   ]
  },
  {
   "cell_type": "code",
   "execution_count": 5,
   "metadata": {},
   "outputs": [
    {
     "name": "stdout",
     "output_type": "stream",
     "text": [
      "0\n"
     ]
    }
   ],
   "source": [
    "empty_dict = {}\n",
    "print(len(empty_dict))"
   ]
  },
  {
   "cell_type": "markdown",
   "metadata": {},
   "source": [
    "Well, everything went as expected. Let's talk about the *key-value* pairs. \n",
    "\n",
    "In a *key-value* pair, a **key** and a **value** is separated by a colon `:`. The one before `:` is the **key** and the one after `:` is the corresponding **value**. \n",
    "Different *key-value* pairs are separated by a comma `,`. \n",
    "\n",
    "Now, what are the accepted data-types of *keys* and *values*. Well, a key can be anything which is **immutable**, i.e., *string*, *number (int, float, complex)*, *tuple* or *boolean*. Values can be of any data-type, *string*, *number*, *list*, *tuple*, *boolean*, *dictionary* etc. \n",
    "(Yes, *dictionaries* can be present within a *dictionary*, like *lists* can be present within a *list*)."
   ]
  },
  {
   "cell_type": "code",
   "execution_count": 6,
   "metadata": {},
   "outputs": [
    {
     "name": "stdout",
     "output_type": "stream",
     "text": [
      "{'Orange': 2, 'Mango': 16, 'Banana': 12, 'Apples': 5}\n"
     ]
    }
   ],
   "source": [
    "# A valid dictionary\n",
    "fruits = {'Orange': 2, 'Mango': 16, 'Banana': 12, 'Apples': 5}\n",
    "print(fruits)"
   ]
  },
  {
   "cell_type": "code",
   "execution_count": 7,
   "metadata": {},
   "outputs": [
    {
     "ename": "TypeError",
     "evalue": "unhashable type: 'list'",
     "output_type": "error",
     "traceback": [
      "\u001b[1;31m---------------------------------------------------------------------------\u001b[0m",
      "\u001b[1;31mTypeError\u001b[0m                                 Traceback (most recent call last)",
      "\u001b[1;32m<ipython-input-7-0273117ad009>\u001b[0m in \u001b[0;36m<module>\u001b[1;34m\u001b[0m\n\u001b[0;32m      1\u001b[0m \u001b[1;31m# An invalid dictionary\u001b[0m\u001b[1;33m\u001b[0m\u001b[1;33m\u001b[0m\u001b[1;33m\u001b[0m\u001b[0m\n\u001b[1;32m----> 2\u001b[1;33m \u001b[0mfoods\u001b[0m \u001b[1;33m=\u001b[0m \u001b[1;33m{\u001b[0m\u001b[1;33m[\u001b[0m\u001b[1;34m'Fruits'\u001b[0m\u001b[1;33m,\u001b[0m \u001b[1;34m'Grains'\u001b[0m\u001b[1;33m,\u001b[0m \u001b[1;34m'Nuts'\u001b[0m\u001b[1;33m,\u001b[0m \u001b[1;34m'Vegetables'\u001b[0m\u001b[1;33m]\u001b[0m\u001b[1;33m:\u001b[0m \u001b[1;34m'I like them'\u001b[0m\u001b[1;33m,\u001b[0m \u001b[1;33m[\u001b[0m\u001b[1;34m'Meat'\u001b[0m\u001b[1;33m,\u001b[0m \u001b[1;34m'Fish'\u001b[0m\u001b[1;33m,\u001b[0m \u001b[1;34m'Dairy'\u001b[0m\u001b[1;33m]\u001b[0m\u001b[1;33m:\u001b[0m \u001b[1;34m'I do not like them'\u001b[0m\u001b[1;33m}\u001b[0m\u001b[1;33m\u001b[0m\u001b[1;33m\u001b[0m\u001b[0m\n\u001b[0m\u001b[0;32m      3\u001b[0m \u001b[1;31m# This dictionary has two pairs. In each pairs, keys are lists, which is not allowed.\u001b[0m\u001b[1;33m\u001b[0m\u001b[1;33m\u001b[0m\u001b[1;33m\u001b[0m\u001b[0m\n\u001b[0;32m      4\u001b[0m \u001b[0mprint\u001b[0m\u001b[1;33m(\u001b[0m\u001b[0mfoods\u001b[0m\u001b[1;33m)\u001b[0m\u001b[1;33m\u001b[0m\u001b[1;33m\u001b[0m\u001b[0m\n",
      "\u001b[1;31mTypeError\u001b[0m: unhashable type: 'list'"
     ]
    }
   ],
   "source": [
    "# An invalid dictionary\n",
    "foods = {['Fruits', 'Grains', 'Nuts', 'Vegetables']: 'I like them', ['Meat', 'Fish', 'Dairy']: 'I do not like them'}\n",
    "# This dictionary has two pairs. In each pairs, keys are lists, which is not allowed.\n",
    "print(foods)"
   ]
  },
  {
   "cell_type": "markdown",
   "metadata": {},
   "source": [
    "Sometimes errors are helpful too. This is a `TypeError`, which means `list` is not accepted data-type as *keys* in the dictionary."
   ]
  },
  {
   "cell_type": "markdown",
   "metadata": {},
   "source": [
    "### Using Variables in dictionary"
   ]
  },
  {
   "cell_type": "markdown",
   "metadata": {},
   "source": [
    "Suppose we declare some variables below."
   ]
  },
  {
   "cell_type": "code",
   "execution_count": 8,
   "metadata": {},
   "outputs": [],
   "source": [
    "Veg_foods = ['Fruits', 'Nuts', 'Grains', 'Vegetables'] # List\n",
    "Non_Veg_foods = ['Meat', 'Fish'] # List\n",
    "\n",
    "# Dictionary containing variables Veg_foods and Non_Veg_foods\n",
    "My_diet = {True : Veg_foods, False: Non_Veg_foods}"
   ]
  },
  {
   "cell_type": "markdown",
   "metadata": {},
   "source": [
    "What should be the outcome if we print `My_diet`. Will it be printed with the variable names, or with the data that is stored in that variable names?"
   ]
  },
  {
   "cell_type": "code",
   "execution_count": 9,
   "metadata": {},
   "outputs": [
    {
     "name": "stdout",
     "output_type": "stream",
     "text": [
      "{True: ['Fruits', 'Nuts', 'Grains', 'Vegetables'], False: ['Meat', 'Fish']}\n"
     ]
    }
   ],
   "source": [
    "print(My_diet)"
   ]
  },
  {
   "cell_type": "markdown",
   "metadata": {},
   "source": [
    "You must have understood by now what we meant to say."
   ]
  },
  {
   "cell_type": "markdown",
   "metadata": {},
   "source": [
    "### Is a Dictionary mutable or immutable?"
   ]
  },
  {
   "cell_type": "markdown",
   "metadata": {},
   "source": [
    "**Mutable** means whether a data-type allows us to do changes within them once they are defined. **Immutable** data-types do not allow us to change their content. Either we can use its content to create a new data-type, or we totally overwrite them and assign them new content again. \n",
    "\n",
    "It may be difficult to remember which data-types are *mutable* or *immutable*. Why not let us check ourselves? No, do not Google it up. We can check it using Python itself. Let us print our `fruits` dictionary again."
   ]
  },
  {
   "cell_type": "code",
   "execution_count": 10,
   "metadata": {},
   "outputs": [
    {
     "name": "stdout",
     "output_type": "stream",
     "text": [
      "{'Orange': 2, 'Mango': 16, 'Banana': 12, 'Apples': 5}\n"
     ]
    }
   ],
   "source": [
    "print(fruits)"
   ]
  },
  {
   "cell_type": "markdown",
   "metadata": {},
   "source": [
    "Now I remember that I have much more 'Oranges'. I have 10 'Oranges'. In *lists*, *strings*, *tuples*, the elements within them can be accessed by **index**. The first element of a *list* can be accessed by `list_name[0]`, *string* by `string_name[0]`, and so on for tuples. \n",
    "\n",
    "But how to access the *key-value* pairs of a dictionary? Forget about checking mutability if we don't know that. \n",
    "\n",
    "This thing can be done using this way as shown below."
   ]
  },
  {
   "cell_type": "code",
   "execution_count": 11,
   "metadata": {},
   "outputs": [
    {
     "name": "stdout",
     "output_type": "stream",
     "text": [
      "2\n"
     ]
    }
   ],
   "source": [
    "print(fruits['Orange']) # Accessing list item using key. If the key is present, then corresponding value will be printed."
   ]
  },
  {
   "cell_type": "code",
   "execution_count": 12,
   "metadata": {},
   "outputs": [
    {
     "name": "stdout",
     "output_type": "stream",
     "text": [
      "I have 16 mangoes, 12 bananas, and 5 apples\n"
     ]
    }
   ],
   "source": [
    "print('I have {} mangoes, {} bananas, and {} apples'.format(fruits['Mango'], fruits['Banana'], fruits['Apples']))"
   ]
  },
  {
   "cell_type": "markdown",
   "metadata": {},
   "source": [
    "Do not worry if you are unable to understand what happened in the above line. We have just used string formatting for nicer output. You should get the logic by now, how to access any *value* from a dictionary using *key* name."
   ]
  },
  {
   "cell_type": "markdown",
   "metadata": {},
   "source": [
    "We can also use `get()` method to access a *value* for a *key* in the dictionary"
   ]
  },
  {
   "cell_type": "code",
   "execution_count": 13,
   "metadata": {},
   "outputs": [
    {
     "name": "stdout",
     "output_type": "stream",
     "text": [
      "2\n"
     ]
    }
   ],
   "source": [
    "print(fruits.get('Orange'))"
   ]
  },
  {
   "cell_type": "markdown",
   "metadata": {},
   "source": [
    "But there is a significant difference between `[]` and `get()` method. If we use `[]` and search for the *value* of a *key* which is not present in the dictionary, then `KeyError` is raised, whereas in case of `get()`, no error is raised, and `None` is returned."
   ]
  },
  {
   "cell_type": "code",
   "execution_count": 14,
   "metadata": {},
   "outputs": [
    {
     "ename": "KeyError",
     "evalue": "'Guava'",
     "output_type": "error",
     "traceback": [
      "\u001b[1;31m---------------------------------------------------------------------------\u001b[0m",
      "\u001b[1;31mKeyError\u001b[0m                                  Traceback (most recent call last)",
      "\u001b[1;32m<ipython-input-14-59ba86ded67e>\u001b[0m in \u001b[0;36m<module>\u001b[1;34m\u001b[0m\n\u001b[1;32m----> 1\u001b[1;33m \u001b[0mprint\u001b[0m\u001b[1;33m(\u001b[0m\u001b[0mfruits\u001b[0m\u001b[1;33m[\u001b[0m\u001b[1;34m'Guava'\u001b[0m\u001b[1;33m]\u001b[0m\u001b[1;33m)\u001b[0m\u001b[1;33m\u001b[0m\u001b[1;33m\u001b[0m\u001b[0m\n\u001b[0m",
      "\u001b[1;31mKeyError\u001b[0m: 'Guava'"
     ]
    }
   ],
   "source": [
    "print(fruits['Guava'])"
   ]
  },
  {
   "cell_type": "code",
   "execution_count": 15,
   "metadata": {},
   "outputs": [
    {
     "name": "stdout",
     "output_type": "stream",
     "text": [
      "None\n"
     ]
    }
   ],
   "source": [
    "print(fruits.get('Guava'))"
   ]
  },
  {
   "cell_type": "markdown",
   "metadata": {},
   "source": [
    "**Why indexing is not used to access elements in dictionary?**\n",
    "\n",
    "It is because the ordering of pairs in a dictionary is not fixed. They can change in due course. In the `fruits` dictionary, `'Orange'` belongs to the first pair now. But, during many operations (adding more pairs, removing pairs), the ordering may change, and it may not belong to the first pair forever. That's why indexing does not matter in *dictionaries*. The thing which matters is the *key-value* pair itself, whether it is present, or not."
   ]
  },
  {
   "cell_type": "markdown",
   "metadata": {},
   "source": [
    "Now, come again to the question whether a dictionary is *mutable* or not? Let's check. I have 10 `'Orange'` now."
   ]
  },
  {
   "cell_type": "code",
   "execution_count": 16,
   "metadata": {},
   "outputs": [
    {
     "name": "stdout",
     "output_type": "stream",
     "text": [
      "{'Orange': 10, 'Mango': 16, 'Banana': 12, 'Apples': 5}\n"
     ]
    }
   ],
   "source": [
    "fruits['Orange'] = 10 # Assigning the value of 'Orange' to be 10\n",
    "print(fruits)"
   ]
  },
  {
   "cell_type": "markdown",
   "metadata": {},
   "source": [
    "Yeah! We **successfully replaced** the *value* of the `'Orange'` *key* to 10. \n",
    "\n",
    "That means, **Dictionaries are Mutable**. Now you can search Google and confirm whether this is right or not :)"
   ]
  },
  {
   "cell_type": "markdown",
   "metadata": {},
   "source": [
    "One thing to note is that a same *key* cannot be present in a dictionary more than one time. You will know why."
   ]
  },
  {
   "cell_type": "markdown",
   "metadata": {},
   "source": [
    "### Adding elements in Dictionary"
   ]
  },
  {
   "cell_type": "markdown",
   "metadata": {},
   "source": [
    "How to add new *key-value* pairs in a dictionary? Well you probably know this one. We use the same `[]` method to add new *key-value* pairs."
   ]
  },
  {
   "cell_type": "code",
   "execution_count": 17,
   "metadata": {},
   "outputs": [
    {
     "name": "stdout",
     "output_type": "stream",
     "text": [
      "{'Orange': 10, 'Mango': 16, 'Banana': 12, 'Apples': 5, 'Pear': 42}\n"
     ]
    }
   ],
   "source": [
    "# Adding Pears. I have a lot of pears.\n",
    "fruits['Pear'] = 42\n",
    "print(fruits)"
   ]
  },
  {
   "cell_type": "markdown",
   "metadata": {},
   "source": [
    "Let's add some more tasty fruits"
   ]
  },
  {
   "cell_type": "code",
   "execution_count": 18,
   "metadata": {},
   "outputs": [
    {
     "name": "stdout",
     "output_type": "stream",
     "text": [
      "{'Orange': 10, 'Mango': 16, 'Banana': 12, 'Apples': 5, 'Pear': 42, 'Strawberry': 5, 'Watermelon': 1, 'Raspberry': 18, 'Lychee': 50}\n"
     ]
    }
   ],
   "source": [
    "fruits['Strawberry'] = 5\n",
    "fruits['Watermelon'] = 1\n",
    "fruits['Raspberry'] = 18\n",
    "fruits['Lychee'] = 50\n",
    "\n",
    "print(fruits)"
   ]
  },
  {
   "cell_type": "markdown",
   "metadata": {},
   "source": [
    "Wow, we have many many fruits. Now we should also be able to delete fruits from a *dictionary*."
   ]
  },
  {
   "cell_type": "markdown",
   "metadata": {},
   "source": [
    "### Deleting elements from a Dictionary"
   ]
  },
  {
   "cell_type": "markdown",
   "metadata": {},
   "source": [
    "Well there are more ways to delete elements than to add elements. Let's list them all, and use them one by one.\n",
    "* `pop()` method: Include the *key* inside parenthesis to delete a pair. The corresponding value is returned before deletion.\n",
    "* `popitem()` removes any random pair, outputting the removed pair as a *tuple*.\n",
    "* `del` to delete a pair using *key*, or to delete the entire dictionary itself.\n",
    "* `clear()` to remove all pairs from the dictionary, making the dictionary empty.\n",
    "\n",
    "Let's see each one with examples."
   ]
  },
  {
   "cell_type": "code",
   "execution_count": 19,
   "metadata": {},
   "outputs": [
    {
     "data": {
      "text/plain": [
       "50"
      ]
     },
     "execution_count": 19,
     "metadata": {},
     "output_type": "execute_result"
    }
   ],
   "source": [
    "# Removing 'Lychee' key and its corresponding value\n",
    "fruits.pop('Lychee')"
   ]
  },
  {
   "cell_type": "markdown",
   "metadata": {},
   "source": [
    "The corresponding value *50* is returned. The thing **return** means that it only shows output in Python Shell, not in text editors, until and unless it is printed using `print(fruits.pop('Lychee'))`."
   ]
  },
  {
   "cell_type": "code",
   "execution_count": 20,
   "metadata": {},
   "outputs": [
    {
     "name": "stdout",
     "output_type": "stream",
     "text": [
      "{'Orange': 10, 'Mango': 16, 'Banana': 12, 'Apples': 5, 'Pear': 42, 'Strawberry': 5, 'Watermelon': 1, 'Raspberry': 18}\n"
     ]
    }
   ],
   "source": [
    "print(fruits)"
   ]
  },
  {
   "cell_type": "markdown",
   "metadata": {},
   "source": [
    "Now its the time to use `popitem()`."
   ]
  },
  {
   "cell_type": "code",
   "execution_count": 21,
   "metadata": {},
   "outputs": [
    {
     "data": {
      "text/plain": [
       "('Raspberry', 18)"
      ]
     },
     "execution_count": 21,
     "metadata": {},
     "output_type": "execute_result"
    }
   ],
   "source": [
    "fruits.popitem()"
   ]
  },
  {
   "cell_type": "markdown",
   "metadata": {},
   "source": [
    "A *random* corresponding pair is returned and removed from the dictionary. Remember, it is random because **ordering of elements does not matter in dictionary**. "
   ]
  },
  {
   "cell_type": "code",
   "execution_count": 22,
   "metadata": {},
   "outputs": [
    {
     "name": "stdout",
     "output_type": "stream",
     "text": [
      "{'Orange': 10, 'Mango': 16, 'Banana': 12, 'Apples': 5, 'Pear': 42, 'Strawberry': 5, 'Watermelon': 1}\n"
     ]
    }
   ],
   "source": [
    "print(fruits)"
   ]
  },
  {
   "cell_type": "markdown",
   "metadata": {},
   "source": [
    "Now, `del`."
   ]
  },
  {
   "cell_type": "code",
   "execution_count": 23,
   "metadata": {},
   "outputs": [
    {
     "name": "stdout",
     "output_type": "stream",
     "text": [
      "{'Orange': 10, 'Mango': 16, 'Apples': 5, 'Pear': 42, 'Strawberry': 5, 'Watermelon': 1}\n"
     ]
    }
   ],
   "source": [
    "# Removing 'Banana' and its corresponding value\n",
    "del fruits['Banana']\n",
    "print(fruits)"
   ]
  },
  {
   "cell_type": "markdown",
   "metadata": {},
   "source": [
    "Now we will use `clear()`."
   ]
  },
  {
   "cell_type": "code",
   "execution_count": 24,
   "metadata": {},
   "outputs": [
    {
     "name": "stdout",
     "output_type": "stream",
     "text": [
      "{}\n"
     ]
    }
   ],
   "source": [
    "fruits.clear()\n",
    "print(fruits)"
   ]
  },
  {
   "cell_type": "markdown",
   "metadata": {},
   "source": [
    "This made our *dictionary* empty. Now, we can delete our dictionary itself using `del`."
   ]
  },
  {
   "cell_type": "code",
   "execution_count": 25,
   "metadata": {},
   "outputs": [],
   "source": [
    "del fruits"
   ]
  },
  {
   "cell_type": "markdown",
   "metadata": {},
   "source": [
    "It must have deleted our *dictionary*. It means, now nothing is stored in `fruits`. So, if we try `print(fruits)`, it should show us an error."
   ]
  },
  {
   "cell_type": "code",
   "execution_count": 26,
   "metadata": {},
   "outputs": [
    {
     "ename": "NameError",
     "evalue": "name 'fruits' is not defined",
     "output_type": "error",
     "traceback": [
      "\u001b[1;31m---------------------------------------------------------------------------\u001b[0m",
      "\u001b[1;31mNameError\u001b[0m                                 Traceback (most recent call last)",
      "\u001b[1;32m<ipython-input-26-c5ba58fe0871>\u001b[0m in \u001b[0;36m<module>\u001b[1;34m\u001b[0m\n\u001b[1;32m----> 1\u001b[1;33m \u001b[0mprint\u001b[0m\u001b[1;33m(\u001b[0m\u001b[0mfruits\u001b[0m\u001b[1;33m)\u001b[0m\u001b[1;33m\u001b[0m\u001b[1;33m\u001b[0m\u001b[0m\n\u001b[0m",
      "\u001b[1;31mNameError\u001b[0m: name 'fruits' is not defined"
     ]
    }
   ],
   "source": [
    "print(fruits)"
   ]
  },
  {
   "cell_type": "markdown",
   "metadata": {},
   "source": [
    "As expected, `NameError` is raised, saying,\n",
    "> name 'fruits' is not defined"
   ]
  },
  {
   "cell_type": "markdown",
   "metadata": {},
   "source": [
    "Now, let us define a new *dictionary* of `vegetables`."
   ]
  },
  {
   "cell_type": "code",
   "execution_count": 27,
   "metadata": {},
   "outputs": [
    {
     "name": "stdout",
     "output_type": "stream",
     "text": [
      "{'Broccoli': 4, 'Cauliflower': 2}\n"
     ]
    }
   ],
   "source": [
    "vegetables = {'Broccoli': 4, 'Cauliflower': 2}\n",
    "print(vegetables)"
   ]
  },
  {
   "cell_type": "code",
   "execution_count": 28,
   "metadata": {},
   "outputs": [
    {
     "name": "stdout",
     "output_type": "stream",
     "text": [
      "{'Broccoli': 4, 'Cauliflower': 2, 'Tomato': 25, 'Potato': 10, 'Corn': 6}\n"
     ]
    }
   ],
   "source": [
    "# Adding more vegetables\n",
    "vegetables['Tomato'] = 25\n",
    "vegetables['Potato'] = 10\n",
    "vegetables['Corn'] = 6\n",
    "print(vegetables)"
   ]
  },
  {
   "cell_type": "markdown",
   "metadata": {},
   "source": [
    "We said sometime ago that a dictionary **cannot have more than one same *key***. It should be obvious now why it is not possible. \n",
    "\n",
    "Let's add `'Tomato'` as a *key* again."
   ]
  },
  {
   "cell_type": "code",
   "execution_count": 29,
   "metadata": {},
   "outputs": [
    {
     "name": "stdout",
     "output_type": "stream",
     "text": [
      "{'Broccoli': 4, 'Cauliflower': 2, 'Tomato': 18, 'Potato': 10, 'Corn': 6}\n"
     ]
    }
   ],
   "source": [
    "vegetables['Tomato'] = 18\n",
    "print(vegetables)"
   ]
  },
  {
   "cell_type": "markdown",
   "metadata": {},
   "source": [
    "The old value of `'Tomato'` was overwritten by the new value. That's why, same *key* is not possible multiple time. But same *value* can be present multiple times for different *keys*."
   ]
  }
 ],
 "metadata": {
  "kernelspec": {
   "display_name": "Python 3",
   "language": "python",
   "name": "python3"
  },
  "language_info": {
   "codemirror_mode": {
    "name": "ipython",
    "version": 3
   },
   "file_extension": ".py",
   "mimetype": "text/x-python",
   "name": "python",
   "nbconvert_exporter": "python",
   "pygments_lexer": "ipython3",
   "version": "3.7.3"
  }
 },
 "nbformat": 4,
 "nbformat_minor": 2
}
